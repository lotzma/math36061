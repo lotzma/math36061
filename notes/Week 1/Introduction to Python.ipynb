{
 "cells": [
  {
   "cell_type": "markdown",
   "metadata": {},
   "source": [
    "# (Very brief) Introduction to Python and Jupyter\n",
    "---"
   ]
  },
  {
   "cell_type": "markdown",
   "metadata": {},
   "source": [
    "Welcome! This introduction will get you started with Python and Jupyter. Note that this introduction is **very brief**; you will find links to more comprehensive sources on the course page or below.\n",
    "\n",
    "* **Python** is a programming language, while\n",
    "\n",
    "* **Jupyter** is a web-based platform that allows you to run Python code interactively. You are currently looking at a Jupyter notebook!\n",
    "\n",
    "Before getting into Python and Jupyter, we make a little detour on algorithms and computing.\n",
    "\n",
    "## On computing\n",
    "\n",
    "An **algorithm** is a sequence of instructions or rules to accomplish some task. An algorithm usually expects an **input**, and after performing a series of tasks on it, produces an **output**. \n",
    "\n",
    "For example, the well-known **Euclidean algorithm** takes as input two natural numbers $a$ and $b$, and outputs the largest common divisor of $a$ and $b$. \n",
    "\n",
    "![Euclidean Algorithm](images/euclid-graph.png)\n",
    "\n",
    "A **computer program** is a sequence of coded instructions, written in a **programming language**, to be carried out by a computer. As such, a computer program is an **implementation** of an algorithm on a computer.\n",
    "There are many computer languages around, some of the more popular ones being C, C++, C\\#, Java, and Python. Computing platforms such as R, Julia, Sage or MATLAB also include their own programming languages. In this course we focus on Python. Some of the reasons are that it is \n",
    "\n",
    "* easy to learn and use,\n",
    "* comes with a large variety of libraries and add-ons for scientific computing and data science,\n",
    "* is heavily used in [organisations and industry](https://en.wikipedia.org/wiki/List_of_Python_software), and many employers in quantitative and data-oriented fields expect applicants to know Python. \n",
    "\n",
    "Below we see how the Euclidean algorithm looks like in Python.\n"
   ]
  },
  {
   "cell_type": "code",
   "execution_count": 33,
   "metadata": {
    "collapsed": false
   },
   "outputs": [
    {
     "name": "stdout",
     "output_type": "stream",
     "text": [
      "Enter first number: 5\n",
      "Enter second number: 4\n",
      "The gcd of a and b is  1\n"
     ]
    }
   ],
   "source": [
    "a = int(input(\"Enter first number: \"))\n",
    "b = int(input(\"Enter second number: \"))\n",
    "while b != 0:\n",
    "    if a > b:\n",
    "        a = a - b\n",
    "    else:\n",
    "        b = b - a\n",
    "print \"The gcd of a and b is \", a"
   ]
  },
  {
   "cell_type": "markdown",
   "metadata": {},
   "source": [
    "**Remark 1:** In this course we will be using **Python 2.7**, as opposed to **Python 3.5**. This is a subtle but important distinction, as some commands differe between the two version. The simple reason is that, for the time being, the optimization package **CVXPY** works best under Python 2.7. "
   ]
  },
  {
   "cell_type": "markdown",
   "metadata": {},
   "source": [
    "**Remark 2:** This is a course on Convex Optimization and not on Python. We are only using Python as a computational tool to help us work with examples and applications related to optimization. For a more detailed introduction to Python, a good way to start is the [Programming with Python (MATH20622)](http://personalpages.manchester.ac.uk/staff/stefan.guettel/py/) lecture, for which all the material is available online (note that the Python course is based on Python 3.5, but the differences are negligible). A comprehensive reference is the official [Python Tutorial](https://docs.python.org/2/tutorial/index.html)."
   ]
  },
  {
   "cell_type": "markdown",
   "metadata": {},
   "source": [
    "## Jupyter\n",
    "\n",
    "There are different ways to input Python code. One is entering the commands interactively using a command shell such as **IPython**.\n",
    "For larger software project, one typically uses an Integrated Development Environment (**IDE**), such as [Spyder](https://pythonhosted.org/spyder/) or [PyCharm](https://www.jetbrains.com/pycharm/) (there are countless others). \n",
    "\n",
    "[Jupyter notebooks](http://jupyter.org/) can be seen as extensions of IPython. They are web applications that allow one to execute code written in Python (or other programming languages such as R and Julia), together with explanatory text, equations, web links, and media. \n",
    "\n",
    "If you have a Python distribution such as Anaconda installed, then Jupyter is already there. Just go to the directory you like to work in and type \"jupyter notebook\" in a console (in Windows, type cmd to open a console). Otherwise, you can open or create a Jupyter notebook on your SageMathCloud account, see the instructions here for more details.\n",
    "\n",
    "Jupyter notebooks contain two types of cells: **Markdown** and **Code** cells. Markdown cells are for writing text (*this* text is contained in a markdown cell!), while Code cells contain Python code. You can double-click on a cell and select the type of cell as follows:\n",
    "\n",
    "![Select cells](images/markdown.png)\n",
    "\n",
    "In Markdown cells it is possible to format text (write section headers, enumerate, highlight text, etc). A reference on how how this is done can be found [here](https://en.support.wordpress.com/markdown-quick-reference/). \n",
    "As with most things in life, the best way to learn is by doing, so I would encourage you to double-click on the markdown cells in this document and have a *behind the scenes* look at how this document was created. Once you finish writing a cell, you can move to the next one by typing SHIFT+ENTER. If you were in a Code cell, this will execute the code.\n",
    "\n",
    "When working with Jupyter it is sometimes convenient to use keyboard shortcuts. A list can be found [here](https://www.cheatography.com/weidadeyue/cheat-sheets/jupyter-notebook/)."
   ]
  },
  {
   "cell_type": "markdown",
   "metadata": {},
   "source": [
    "## Basic Python"
   ]
  },
  {
   "cell_type": "markdown",
   "metadata": {},
   "source": [
    "The simplest program instructs the computer to print Hello World! on the screen. The \\n command means *newline*, and tells the Python interpreter to \"press enter\" after outputting the text."
   ]
  },
  {
   "cell_type": "code",
   "execution_count": 34,
   "metadata": {
    "collapsed": false
   },
   "outputs": [
    {
     "name": "stdout",
     "output_type": "stream",
     "text": [
      "Hello World! \n",
      "\n"
     ]
    }
   ],
   "source": [
    "print \"Hello World! \\n\""
   ]
  },
  {
   "cell_type": "markdown",
   "metadata": {},
   "source": [
    "Python can be used as a calculator to perform simple arithmetic. We can also add comments to the code by using the # sign. Comments are ignored by the interpreter, and serve only to make the code more readable. "
   ]
  },
  {
   "cell_type": "code",
   "execution_count": 35,
   "metadata": {
    "collapsed": false
   },
   "outputs": [],
   "source": [
    "# Add two numbers a and b and store the result in c\n",
    "a = 2\n",
    "b = 3\n",
    "c = a+b"
   ]
  },
  {
   "cell_type": "markdown",
   "metadata": {},
   "source": [
    "In the example above, **a**, **b** and **c** are **variables**, which store some data. In this case, they store the numbers 2, 3, and 2+3, respectively. We can change the values of variables any time."
   ]
  },
  {
   "cell_type": "code",
   "execution_count": 36,
   "metadata": {
    "collapsed": true
   },
   "outputs": [],
   "source": [
    "a = a+4\n",
    "# The following is a shortcut for b = b + 3 (similar with *,-,/)\n",
    "b += 3"
   ]
  },
  {
   "cell_type": "markdown",
   "metadata": {},
   "source": [
    "In Python we don't need to declare the type of data to be stored in a variable: it can be text, numbers, or other more complicated **data types**."
   ]
  },
  {
   "cell_type": "code",
   "execution_count": 26,
   "metadata": {
    "collapsed": false
   },
   "outputs": [
    {
     "name": "stdout",
     "output_type": "stream",
     "text": [
      "I am a text string\n"
     ]
    }
   ],
   "source": [
    "text = \"I am a text string\"\n",
    "print text"
   ]
  },
  {
   "cell_type": "markdown",
   "metadata": {},
   "source": [
    "For more complicated task we can define **functions**."
   ]
  },
  {
   "cell_type": "code",
   "execution_count": 27,
   "metadata": {
    "collapsed": false
   },
   "outputs": [
    {
     "name": "stdout",
     "output_type": "stream",
     "text": [
      "The result of applying f is:  3\n"
     ]
    }
   ],
   "source": [
    "def f(x,y):\n",
    "    z = x + y\n",
    "    return z\n",
    "\n",
    "a = f(1,2)\n",
    "print \"The result of applying f is: \", a"
   ]
  },
  {
   "cell_type": "markdown",
   "metadata": {},
   "source": [
    "A function takes **inputs** or **arguments**, and returns and **output**. In the above example, the function f is defined to take input values x and y and return the sum x+y. \n",
    "\n",
    "**Important:** A feature that distinguishes Python from other programming languages is that it insists on indentation. Notice that the **body** of the function, everything that is carried out when the function is called, is **indented**: it is four characters (one 'tab') away from the left boundary. As soon as we are back on the left boundary, we are outside the function.\n",
    "The variable z appearing within the function is a **local variable**, it only exists while we are in the function. If we try to access it outside, we get an error."
   ]
  },
  {
   "cell_type": "markdown",
   "metadata": {},
   "source": [
    "## Data types"
   ]
  },
  {
   "cell_type": "markdown",
   "metadata": {},
   "source": [
    "Besides numbers and text strings, Python can deal with more involved data types. The most used one is the **list**."
   ]
  },
  {
   "cell_type": "code",
   "execution_count": 28,
   "metadata": {
    "collapsed": false
   },
   "outputs": [
    {
     "name": "stdout",
     "output_type": "stream",
     "text": [
      "[0, 1, 4, 9, 'stop'] 5\n"
     ]
    }
   ],
   "source": [
    "# Lists\n",
    "a = [1, 2, 3, 6]\n",
    "b = ['hello', 3.1415, a]\n",
    "c = [x**2 for x in range(4)]\n",
    "\n",
    "# One can perform operations on list, like appending an element at the end\n",
    "c.append('stop')\n",
    "print c, len(c)"
   ]
  },
  {
   "cell_type": "markdown",
   "metadata": {},
   "source": [
    "As seen in the above example, a list can contain arbitrary data types. List are indexed starting with 0. Thus if the list a has 4 elements, a[0] is the first and a[3] the last element. One can access various elements of a list using **slicing**. "
   ]
  },
  {
   "cell_type": "code",
   "execution_count": 29,
   "metadata": {
    "collapsed": false
   },
   "outputs": [
    {
     "name": "stdout",
     "output_type": "stream",
     "text": [
      "2\n",
      "[0, 1]\n",
      "[1, 2, 3, 6]\n"
     ]
    }
   ],
   "source": [
    "# Print the second element of a\n",
    "print a[1]\n",
    "# Print the first three elements of c\n",
    "print c[0:2]\n",
    "# Print the last element of b\n",
    "print b[-1]"
   ]
  },
  {
   "cell_type": "markdown",
   "metadata": {},
   "source": [
    "A different data structure is the **dictionary**. "
   ]
  },
  {
   "cell_type": "code",
   "execution_count": 30,
   "metadata": {
    "collapsed": false
   },
   "outputs": [
    {
     "data": {
      "text/plain": [
       "1"
      ]
     },
     "execution_count": 30,
     "metadata": {},
     "output_type": "execute_result"
    }
   ],
   "source": [
    "d = {'Item 1':1, 'Item 2':2}\n",
    "d['Item 1']"
   ]
  },
  {
   "cell_type": "markdown",
   "metadata": {},
   "source": [
    "In a dictionary, entries are labeled by a name and can be accessed that way."
   ]
  },
  {
   "cell_type": "markdown",
   "metadata": {},
   "source": [
    "## Flow control and looping"
   ]
  },
  {
   "cell_type": "markdown",
   "metadata": {},
   "source": [
    "Python, like most programming languages, can **branch** and carry out code subject to certain conditions being met. For example, in Euclide algorithm above, the computer encounters two numbers $a$ and $b$. If $a>b$, then it substracts $b$ from $a$, otherwise it subtracts $a$ from $b$."
   ]
  },
  {
   "cell_type": "code",
   "execution_count": 37,
   "metadata": {
    "collapsed": false
   },
   "outputs": [
    {
     "name": "stdout",
     "output_type": "stream",
     "text": [
      "Enter a number: 9\n",
      "The number is odd.\n"
     ]
    }
   ],
   "source": [
    "n = input(\"Enter a number: \")\n",
    "odd = n % 2\n",
    "if odd:\n",
    "    print \"The number is odd.\"\n",
    "else:\n",
    "    print \"The number is even.\""
   ]
  },
  {
   "cell_type": "markdown",
   "metadata": {},
   "source": [
    "In the above code we used various constructs.\n",
    "* We looked at the reminder of n divided by 2: this is eiter $1$ or $0$. In Python, $1$ is interpreted as True, while $0$ as False\n",
    "* One can ask questions like \"if odd is True\" or \"if odd\" to test whether the variable odd is $1$\n",
    "* The \"else\" command applies if the condition after \"if\" is not met"
   ]
  },
  {
   "cell_type": "markdown",
   "metadata": {},
   "source": [
    "In programming, it is often necessary to repeat a task several times. For loops accomplish this. Python uses the command **range(n)** to list all the number from $0$ to $n-1$. "
   ]
  },
  {
   "cell_type": "code",
   "execution_count": 4,
   "metadata": {
    "collapsed": false
   },
   "outputs": [
    {
     "name": "stdout",
     "output_type": "stream",
     "text": [
      "0\n",
      "1\n",
      "4\n",
      "9\n",
      "16\n"
     ]
    }
   ],
   "source": [
    "for i in range(5):\n",
    "    print i**2"
   ]
  },
  {
   "cell_type": "markdown",
   "metadata": {},
   "source": [
    "A related construction is the while loop: where, one repeats a task as long as some condition is met. Note that in each step, the values a and b are changed, so that eventually the validity of the condition may change."
   ]
  },
  {
   "cell_type": "code",
   "execution_count": 94,
   "metadata": {
    "collapsed": false
   },
   "outputs": [
    {
     "name": "stdout",
     "output_type": "stream",
     "text": [
      "10\n",
      "5\n"
     ]
    }
   ],
   "source": [
    "a, b = 15, 5\n",
    "while a>b:\n",
    "    a = a - b\n",
    "    print a"
   ]
  },
  {
   "cell_type": "markdown",
   "metadata": {},
   "source": [
    "## Numerical computing with Python"
   ]
  },
  {
   "cell_type": "markdown",
   "metadata": {},
   "source": [
    "More sophisticated tools are provided as **libraries**. One such library is [numpy](http://www.numpy.org), which stands for Numerical Python. To use numpy, one has to import it first. One could type **from numpy import \\* **, which will import *all* command in numpy, but this is not recommended for efficiency reasons. Instead, one imports the numpy library using a short name **np**, and one can then call all the numpy commands with the np. prefix (for example, np.sin(x) computes the sine of x)."
   ]
  },
  {
   "cell_type": "code",
   "execution_count": 7,
   "metadata": {
    "collapsed": true
   },
   "outputs": [],
   "source": [
    "import numpy as np"
   ]
  },
  {
   "cell_type": "markdown",
   "metadata": {},
   "source": [
    "Numpy stores data in **arrays**. This include numbers, vectors, matrices, and higher order arrays. A matrix is interpreted as an array of arrays, as in the example below."
   ]
  },
  {
   "cell_type": "code",
   "execution_count": 8,
   "metadata": {
    "collapsed": false
   },
   "outputs": [
    {
     "name": "stdout",
     "output_type": "stream",
     "text": [
      "[[1 2]\n",
      " [3 4]]\n"
     ]
    }
   ],
   "source": [
    "A = np.array([[1,2],[3,4]])\n",
    "print A"
   ]
  },
  {
   "cell_type": "markdown",
   "metadata": {},
   "source": [
    "One can find information about the parameters of the array. For example, the following gives the shape (2 x 2). The L means that it stores the numbers in the \"Long\" format."
   ]
  },
  {
   "cell_type": "code",
   "execution_count": 10,
   "metadata": {
    "collapsed": false
   },
   "outputs": [
    {
     "data": {
      "text/plain": [
       "(2L, 2L)"
      ]
     },
     "execution_count": 10,
     "metadata": {},
     "output_type": "execute_result"
    }
   ],
   "source": [
    "A.shape"
   ]
  },
  {
   "cell_type": "markdown",
   "metadata": {},
   "source": [
    "Special matrices are the all zeros and all ones matrix, and the unit matrix."
   ]
  },
  {
   "cell_type": "code",
   "execution_count": 12,
   "metadata": {
    "collapsed": false
   },
   "outputs": [
    {
     "data": {
      "text/plain": [
       "(0.0, 1.0)"
      ]
     },
     "execution_count": 12,
     "metadata": {},
     "output_type": "execute_result"
    }
   ],
   "source": [
    "B = np.zeros( (2,3) )\n",
    "C = np.ones( (3,2) )\n",
    "I = np.eye(2,2)\n",
    "B[0,1], C[2,1]"
   ]
  },
  {
   "cell_type": "code",
   "execution_count": 14,
   "metadata": {
    "collapsed": false
   },
   "outputs": [
    {
     "name": "stdout",
     "output_type": "stream",
     "text": [
      "[ 8 18] [[ 2  6]\n",
      " [ 6 12]] [[ 1.  1.]\n",
      " [ 1.  1.]\n",
      " [ 1.  1.]]\n"
     ]
    }
   ],
   "source": [
    "x = np.array([2, 3])\n",
    "# Matrix vector product or matrix matrix product is implemented with np.dot\n",
    "y = np.dot(A,x)\n",
    "z = np.dot(C,I)\n",
    "# The * operator \n",
    "y_elementwise = A*x\n",
    "print y, y_elementwise, z"
   ]
  },
  {
   "cell_type": "markdown",
   "metadata": {},
   "source": [
    "## Plotting and graphics"
   ]
  },
  {
   "cell_type": "markdown",
   "metadata": {},
   "source": [
    "Plotting is accomplished through the Matplotlib library. You can find a very good overview [here](http://matplotlib.org/). The following example illustrates the basic functionality."
   ]
  },
  {
   "cell_type": "code",
   "execution_count": 15,
   "metadata": {
    "collapsed": true
   },
   "outputs": [],
   "source": [
    "import matplotlib.pyplot as plt"
   ]
  },
  {
   "cell_type": "code",
   "execution_count": 16,
   "metadata": {
    "collapsed": false
   },
   "outputs": [
    {
     "data": {
      "image/png": "[encoded data removed]",
      "text/plain": [
       "<matplotlib.figure.Figure at 0x5cbe668>"
      ]
     },
     "metadata": {},
     "output_type": "display_data"
    }
   ],
   "source": [
    "% matplotlib inline\n",
    "# Create 100 points between 0 and 1\n",
    "xx = np.linspace(0,1,100)\n",
    "yy = np.exp(-2*xx)*np.sin(20*xx)\n",
    "curve = plt.plot(xx,yy)\n",
    "\n",
    "plt.title(\"Some curve\")\n",
    "plt.xlabel(\"x axis\")\n",
    "plt.ylabel(\"y axis\")\n",
    "plt.show()"
   ]
  },
  {
   "cell_type": "code",
   "execution_count": 17,
   "metadata": {
    "collapsed": false
   },
   "outputs": [
    {
     "data": {
      "text/plain": [
       "<matplotlib.figure.Figure at 0x5c9fd68>"
      ]
     },
     "metadata": {},
     "output_type": "display_data"
    }
   ],
   "source": [
    "# Save figure\n",
    "plt.savefig(\"test.png\")"
   ]
  },
  {
   "cell_type": "markdown",
   "metadata": {},
   "source": [
    "## CVXPY - Convex optimization in Python"
   ]
  },
  {
   "cell_type": "markdown",
   "metadata": {},
   "source": [
    "For most computational experiments we will use the [CVXPY](http://www.cvxpy.org) package. This package usually has to be installed in addition to the Anaconda Python distribution, and the website gives instructions on how to do this. The example below shows how CVXPY can be used to solve a simple linear program. More involved examples appear in the first lecture."
   ]
  },
  {
   "cell_type": "code",
   "execution_count": 38,
   "metadata": {
    "collapsed": false
   },
   "outputs": [
    {
     "ename": "ImportError",
     "evalue": "No module named cvxpy",
     "output_type": "error",
     "traceback": [
      "\u001b[1;31m---------------------------------------------------------------------------\u001b[0m",
      "\u001b[1;31mImportError\u001b[0m                               Traceback (most recent call last)",
      "\u001b[1;32m<ipython-input-38-2048f21b48c7>\u001b[0m in \u001b[0;36m<module>\u001b[1;34m()\u001b[0m\n\u001b[0;32m      1\u001b[0m \u001b[1;32mimport\u001b[0m \u001b[0mnumpy\u001b[0m \u001b[1;32mas\u001b[0m \u001b[0mnp\u001b[0m\u001b[1;33m\u001b[0m\u001b[0m\n\u001b[1;32m----> 2\u001b[1;33m \u001b[1;32mfrom\u001b[0m \u001b[0mcvxpy\u001b[0m \u001b[1;32mimport\u001b[0m \u001b[1;33m*\u001b[0m\u001b[1;33m\u001b[0m\u001b[0m\n\u001b[0m\u001b[0;32m      3\u001b[0m \u001b[1;33m\u001b[0m\u001b[0m\n\u001b[0;32m      4\u001b[0m \u001b[1;31m# Problem data.\u001b[0m\u001b[1;33m\u001b[0m\u001b[1;33m\u001b[0m\u001b[0m\n\u001b[0;32m      5\u001b[0m \u001b[0mm\u001b[0m \u001b[1;33m=\u001b[0m \u001b[1;36m30\u001b[0m\u001b[1;33m\u001b[0m\u001b[0m\n",
      "\u001b[1;31mImportError\u001b[0m: No module named cvxpy"
     ]
    }
   ],
   "source": [
    "import numpy as np\n",
    "from cvxpy import *\n",
    "\n",
    "# Problem data.\n",
    "m = 30\n",
    "n = 20\n",
    "np.random.seed(1)\n",
    "A = np.random.randn(m, n)\n",
    "b = np.random.randn(m)\n",
    "\n",
    "# Construct the problem.\n",
    "x = Variable(n)\n",
    "objective = Minimize(sum_squares(A*x - b))\n",
    "constraints = [0 <= x, x <= 1]\n",
    "prob = Problem(objective, constraints)\n",
    "\n",
    "# The optimal objective is returned by prob.solve().\n",
    "result = prob.solve()\n",
    "# The optimal value for x is stored in x.value.\n",
    "print x.value\n",
    "# The optimal Lagrange multiplier for a constraint\n",
    "# is stored in constraint.dual_value.\n",
    "print constraints[0].dual_value"
   ]
  },
  {
   "cell_type": "markdown",
   "metadata": {},
   "source": [
    "## Other libraries"
   ]
  },
  {
   "cell_type": "markdown",
   "metadata": {
    "collapsed": true
   },
   "source": [
    "We will occasionally make use of other libraries.\n",
    "* [Python Imaging Library](http://www.pythonware.com/products/pil/)\n",
    "* [Python Data Analysis (Pandas)](http://www.pythonware.com/products/pil/)\n",
    "* [Scikit-learn, Machine Learning](http://www.pythonware.com/products/pil/)\n"
   ]
  },
  {
   "cell_type": "code",
   "execution_count": null,
   "metadata": {
    "collapsed": true
   },
   "outputs": [],
   "source": []
  }
 ],
 "metadata": {
  "kernelspec": {
   "display_name": "Python [Root]",
   "language": "python",
   "name": "Python [Root]"
  },
  "language_info": {
   "codemirror_mode": {
    "name": "ipython",
    "version": 2
   },
   "file_extension": ".py",
   "mimetype": "text/x-python",
   "name": "python",
   "nbconvert_exporter": "python",
   "pygments_lexer": "ipython2",
   "version": "2.7.12"
  }
 },
 "nbformat": 4,
 "nbformat_minor": 0
}
