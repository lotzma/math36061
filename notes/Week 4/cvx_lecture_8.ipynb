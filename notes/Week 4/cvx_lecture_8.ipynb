{
 "cells": [
  {
   "cell_type": "markdown",
   "metadata": {},
   "source": [
    "<img style=\"float: left; width: 260px;\" src=\"images/durer.jpg\">\n",
    "***\n",
    "# <font color=\"grey\">    Lecture 8 - Geometry of Linear Programming</font>\n",
    "***\n",
    "$\\newcommand{\\vct}[1]{\\mathbf{#1}}$\n",
    "$\\newcommand{\\mtx}[1]{\\mathbf{#1}}$\n",
    "$\\newcommand{\\e}{\\varepsilon}$\n",
    "$\\newcommand{\\norm}[1]{\\|#1\\|}$\n",
    "$\\newcommand{\\minimize}{\\text{minimize}\\quad}$\n",
    "$\\newcommand{\\maximize}{\\text{maximize}\\quad}$\n",
    "$\\newcommand{\\subjto}{\\quad\\text{subject to}\\quad}$\n",
    "$\\newcommand{\\R}{\\mathbb{R}}$\n",
    "$\\newcommand{\\trans}{T}$\n",
    "$\\newcommand{\\ip}[2]{\\langle {#1}, {#2} \\rangle}$\n",
    "$\\newcommand{\\zerovct}{\\vct{0}}$\n",
    "$\\newcommand{\\diff}[1]{\\mathrm{d}{#1}}$\n",
    "$\\newcommand{\\conv}{\\operatorname{conv}}$\n",
    "$\\newcommand{\\inter}{{\\operatorname{int}}}$"
   ]
  },
  {
   "cell_type": "markdown",
   "metadata": {},
   "source": [
    "Linear programming is about problems of the form\n",
    "\n",
    "\\begin{align*}\n",
    " \\maximize & \\ip{\\vct{c}}{\\vct{x}}\\\\\n",
    " \\subjto & \\mtx{A}\\vct{x}\\leq \\vct{b},\n",
    "\\end{align*}\n",
    "\n",
    "where $\\mtx{A}\\in \\R^{m\\times n}$, $\\vct{x}\\in \\R^n$, $\\vct{c}\\in \\R^n$, and $\\vct{b}\\in \\R^m$, and the inequality sign means inequality in each row. The **feasible set** is the set of all possible candidates, \n",
    "\n",
    "\\begin{equation*}\n",
    " \\mathcal{F} = \\{\\vct{x}\\in \\R^n \\mid \\mtx{A}\\vct{x}\\leq \\vct{b}\\}.\n",
    "\\end{equation*}\n",
    "\n",
    "This set can be empty (example: $x\\leq 1, \\ -x\\leq -2$), unbounded (example: $x\\leq 1$) or bounded (example: $x\\leq 1$, $-x\\leq 0$). In any case, it is a convex set. To understand linear programming it is of paramount importance to understand the geometry of the feasible sets of linear programming, also called **polyhedra**."
   ]
  },
  {
   "cell_type": "markdown",
   "metadata": {},
   "source": [
    "---\n",
    "## <font color=\"grey\">Linear Programming Duality: a first glance</font>\n",
    "---"
   ]
  },
  {
   "cell_type": "markdown",
   "metadata": {},
   "source": [
    "Suppose we are faced with a linear programming problem and would like to know if the feasible set $\\mathcal{F}$ is empty or not, i.e., if $\\mtx{A}\\vct{x}\\leq \\vct{b}$ has a solution. If it is not empty, we can certify that by producing a vector from $\\mathcal{F}$. To verify that the feasible set is empty is more tricky: we are asked to show that *no* vector lives in $\\mathcal{F}$. What we can try to do, however, is to show that the assumption of a solution to $\\mtx{A}\\vct{x}\\leq \\vct{b}$ would lead to a contradiction.\n",
    "Denote by $\\vct{a}_i^{\\trans}$ the rows of $\\mtx{A}$. Assuming $\\vct{x}\\in \\mathcal{F}$, then given a vector $\\zerovct\\neq \\vct{\\lambda}=(\\lambda_1,\\dots,\\lambda_m)^{\\trans}$ with $\\lambda_i\\geq 0$, the linear combination satisfies\n",
    "\n",
    "[1]\n",
    "\\begin{equation*}\n",
    " \\sum_{i=1}^m\\lambda_i \\vct{a}_i^{\\trans}\\vct{x} \\leq \\sum_{i=1}^m \\lambda_i b_i = \\ip{\\vct{\\lambda}}{\\vct{b}}.\n",
    "\\end{equation*}\n",
    "\n",
    "If we can find parameters $\\vct{\\lambda}$ such that the left-hand side is identically $0$ and the right-hand side is strictly negative, then we have found a contradition and can conclude that no $\\vct{x}$ satisfies $\\mtx{A}\\vct{x}\\leq \\vct{b}$. A condition that ensures this is\n",
    "\n",
    "\\begin{equation*}\n",
    " \\sum_{i=1}^m \\lambda_i\\vct{a}_i = \\zerovct, \\quad \\ip{\\vct{\\lambda}}{\\vct{b}} < 0.\n",
    "\\end{equation*}\n",
    "\n",
    "In matrix form,\n",
    "\n",
    "\\begin{equation*}\n",
    " \\exists \\vct{\\lambda}\\geq \\zerovct, \\ \\mtx{A}^{\\trans}\\vct{\\lambda}=\\zerovct, \\ \\ip{\\vct{\\lambda}}{\\vct{b}}<0.\n",
    "\\end{equation*}\n",
    "\n",
    "This condition will still be satisfied if we normalise the vector $\\vct{\\lambda}$ such that $\\sum_{i=1}^m\\lambda_i=1$, so the statement says that $\\zerovct$ is a convex combination of the vectors defining the equations."
   ]
  },
  {
   "cell_type": "markdown",
   "metadata": {},
   "source": [
    "**Example. ** Consider the system\n",
    "\n",
    "\\begin{align*}\n",
    " x_1+x_2 &\\leq 2\\\\\n",
    " -x_1 &\\leq -1\\\\\n",
    " -x_2 &\\leq -1.5.\n",
    "\\end{align*}\n",
    "\n",
    "The transpose matrix $\\mtx{A}^{\\trans}$ and the vector $\\vct{b}$ are\n",
    "\n",
    "\\begin{equation*}\n",
    " \\mtx{A}^{\\trans} = \\begin{pmatrix}\n",
    "                     1 & -1 & 0 \\\\\n",
    "                     1 & 0 & -1 \n",
    "                    \\end{pmatrix}, \\quad\n",
    " \\vct{b} = \\begin{pmatrix}\n",
    "            2 \\\\ -1 \\\\ -1.5.\n",
    "           \\end{pmatrix}\n",
    "\\end{equation*}\n",
    "\n",
    "Drawing the columns of $\\mtx{A}^{\\trans}$ we get\n",
    "\n",
    "<img style=\"float: center; width: 260px;\" src=\"images/convcon.png\">\n",
    "\n",
    "We can get the origin as a convex combination of the vectors $\\vct{a}_i$ (drawing a rope around them encloses the origin), and such a combination is given by $\\vct{\\lambda}=(1/3,1/3,1/3)$. Taking the scalar product with the vector $\\vct{b}$ we get\n",
    "\n",
    "\\begin{equation*}\n",
    " \\ip{\\vct{\\lambda}}{\\vct{b}} = \\frac{1}{3}(2-1-1.5) = -\\frac{1}{6}<0.\n",
    "\\end{equation*}\n",
    "\n",
    "This shows that the system does not have a solution (a fact that in this simple example can also be seen by drawing a picture)."
   ]
  },
  {
   "cell_type": "markdown",
   "metadata": {},
   "source": [
    "It turns out that Condition [1] is not only sufficient but also necessary, and the separating hyperplane theorem is an essential part of this. We first make a detour in order to better understand the feasible sets, the polyhedra."
   ]
  },
  {
   "cell_type": "markdown",
   "metadata": {},
   "source": [
    "---\n",
    "## <font color=\"grey\">Polyhedra</font>\n",
    "---"
   ]
  },
  {
   "cell_type": "markdown",
   "metadata": {},
   "source": [
    "**Definition. **\n",
    " A polyhedron (plural: polyhedra) is a set defined as the solution of linear equalities and inequalities,\n",
    " \n",
    " \\begin{equation*}\n",
    "  P = \\{\\vct{x}\\in \\R^d \\mid \\mtx{A}\\vct{x}\\leq \\vct{b}\\},\n",
    " \\end{equation*}\n",
    "\n",
    "where $\\mtx{A}\\in \\R^{m\\times d}$, $\\vct{b}\\in \\R^m$. \n",
    "\n",
    "More classically, we can write out the equations.\n",
    "\n",
    "\\begin{align*}\n",
    " a_{11}x_1+\\cdots +a_{1d}x_d &\\leq b_1,\\\\\n",
    " \\cdots& \\\\\n",
    " a_{m1}x_1+\\cdots +a_{md}x_d & \\leq b_m.\n",
    "\\end{align*}\n",
    "\n",
    "We now introduce some useful terminology and concepts associated to polyhedra, and illustrate them with a few examples.\n",
    "A supporting hyperplane $H$ of a polyhedron $P$ is a hyperplane such that $P\\subseteq H_-$, where $H_-$ is a halfspace associated to $H$. If $H$ is a supporting hyperplane, then a set of the form $F=H\\cap P$ is called a **face** of $P$. In particular, the polyhedron $P$ is a face.\n",
    "Each of the inequalities $\\ip{\\vct{a}_i}{\\vct{x}}\\leq b_i$ defines a supporting hyperplane, and therefore a face. The **dimension** of a face $F$,\n",
    "$\\dim F$, is the smallest dimension of an affine space containing $F$. Faces of dimension $\\dim F=\\dim P-1$ are called **facets**, faces of dimension $0$ are **vertices**, and of dimension $1$ **edges**. A vertex can equivalently be characterised as a point $\\vct{x}\\in P$ that can not be written as a convex combination of two other points in $P$."
   ]
  },
  {
   "cell_type": "markdown",
   "metadata": {},
   "source": [
    "**Example. ** Polyhedra in one dimension are the sets $[a,b]$, $[a,\\infty)$, $(-\\infty,b]$, $\\R$ or $\\emptyset$, where $a\\leq b$. Each of them is clearly convex.\n"
   ]
  },
  {
   "cell_type": "markdown",
   "metadata": {},
   "source": [
    " The set\n",
    " \n",
    " \\begin{equation*}\n",
    "  P=\\{\\vct{x}\\in \\R^2 \\mid x_1+x_2\\leq 1, \\ x_1\\geq 0, \\ x_2\\geq 0\\}.\n",
    " \\end{equation*}\n",
    "\n",
    "is the polyhedron shown in the figure below. We can write the defining inequalities in standard form $\\mtx{A}\\vct{x}\\leq \\vct{b}$ by setting \n",
    "\n",
    "\\begin{equation*}\n",
    " \\mtx{A} = \\begin{pmatrix}\n",
    "            1 & 1\\\\\n",
    "            -1 & 0\\\\\n",
    "            0 & -1\n",
    "           \\end{pmatrix}, \\quad\n",
    " \\vct{b} = \\begin{pmatrix}\n",
    "            1 \\\\ 0 \\\\ 0\n",
    "           \\end{pmatrix}.\n",
    "\\end{equation*}\n",
    "\n",
    "<img style=\"float: center; width: 260px;\" src=\"images/triangle.png\">\n",
    "\n",
    "This polyhedron has one face of dimension $2$ (itself), three facets of dimension $1$ (the sides, corresponding to the three equations), and three vertices of dimension $0$ (the corners, corresponding any two of the defining equations)."
   ]
  },
  {
   "cell_type": "markdown",
   "metadata": {},
   "source": [
    "The polyhedron in Albrecht D&uuml;rer's famous Melencolia I, aka the *truncated triangular trapezohedron*, can be described using eight inequalities.\n",
    "\n",
    " <img style=\"float: center; width: 260px;\" src=\"images/melancolia.jpg\">\n",
    " \n",
    "\\begin{align*}\n",
    "    0.7071x_1   -0.4082x_2 +  0.3773x_3 & \\leq 1\\\\\n",
    "   -0.7071x_1 +   0.4082x_2  -0.3773x_3 & \\leq 1\\\\\n",
    "    0.7071x_1 +   0.4082x_2  -0.3773x_3 & \\leq 1\\\\\n",
    "   -0.7071x_1   -0.4082x_2 +  0.3773x_3 & \\leq 1\\\\\n",
    "                  0.8165x_2 +  0.3773x_3 & \\leq 1\\\\\n",
    "                 -0.8165x_2  -0.3773x_3 & \\leq 1\\\\\n",
    "                               0.6313x_3 & \\leq 1\\\\\n",
    "                              -0.6313x_3 & \\leq 1\n",
    "\\end{align*}"
   ]
  },
  {
   "cell_type": "markdown",
   "metadata": {},
   "source": [
    "We now move to a different characterization of bounded polyhedra. The main result of this lecture is that bounded polytopes can be described completely from knowing their vertices. A polyhedron $P$ is called bounded, if there exists a ball $B(\\zerovct,r)$ with $r>0$ such that $P\\subset B(\\zerovct,r)$. For example, halfspaces are not bounded, but the polytope from the previous examples are.\n",
    "\n",
    "We first observe the nontrivial fact that a polyhedron has only fin\n",
    "\n",
    "**Definition. ** A **polytope** is the convex hull of finitely many points,\n",
    " \n",
    " \\begin{equation*}\n",
    "  P = \\conv(\\{x_1,\\dots,x_k\\}) = \\{\\sum_{i=1}^k \\lambda_i\\vct{x}_i, \\ \\lambda_i\\geq 0, \\sum_i \\lambda_i=1\\}.\n",
    " \\end{equation*}\n",
    "\n",
    "**Theorem. ** A bounded polyhedron $P$ is the convex hull of its vertices."
   ]
  },
  {
   "cell_type": "markdown",
   "metadata": {},
   "source": [
    "**Example. ** The triangle in the example above is the convex hull of the points $(0,0)^{\\trans}$, $(0,1)^{\\trans}$, and $(1,0)^{\\trans}$."
   ]
  },
  {
   "cell_type": "markdown",
   "metadata": {},
   "source": [
    "**Example. ** The D&uuml;rer polytope is the convex hull of the following 12 vertices:\n",
    "\n",
    " \\begin{align*}\n",
    "  \\vct{v}_1 &= \\begin{pmatrix} -1.4142\\\\   -0.8165\\\\   -0.8835 \\end{pmatrix},\n",
    "   \\vct{v}_2 = \\begin{pmatrix}-1.4142\\\\    0.8165\\\\    0.8835 \\end{pmatrix}, \n",
    "   \\vct{v}_3 = \\begin{pmatrix}-0.8536\\\\   -0.4928\\\\   -1.5840 \\end{pmatrix}, \n",
    "   \\vct{v}_4 = \\begin{pmatrix}-0.8536\\\\    0.4928\\\\    1.5840 \\end{pmatrix}, \\\\\n",
    "   \\vct{v}_5 &= \\begin{pmatrix}-0.0000\\\\   -1.6330\\\\    0.8835 \\end{pmatrix}, \n",
    "   \\vct{v}_6 = \\begin{pmatrix} 0.0000\\\\   -0.9856\\\\    1.5840 \\end{pmatrix}, \n",
    "   \\vct{v}_7 = \\begin{pmatrix}-0.0000\\\\    0.9856\\\\   -1.5840 \\end{pmatrix}, \n",
    "   \\vct{v}_8 = \\begin{pmatrix} 0.0000\\\\    1.6330\\\\   -0.8835 \\end{pmatrix}, \\\\ \n",
    "   \\vct{v}_9 &= \\begin{pmatrix}0.8536\\\\   -0.4928\\\\   -1.5840 \\end{pmatrix}, \n",
    "   \\vct{v}_{10} = \\begin{pmatrix} 0.8536\\\\    0.4928\\\\    1.5840 \\end{pmatrix}, \n",
    "   \\vct{v}_{11} = \\begin{pmatrix} 1.4142\\\\   -0.8165\\\\   -0.8835 \\end{pmatrix}, \n",
    "   \\vct{v}_{12} = \\begin{pmatrix} 1.4142\\\\    0.8165\\\\    0.8835 \\end{pmatrix}. \n",
    " \\end{align*}\n",
    "\n",
    "The converse of the Theorem is also true."
   ]
  },
  {
   "cell_type": "markdown",
   "metadata": {},
   "source": [
    "**Theorem. ** A polytope is a bounded polyhedron.\n",
    "\n",
    "The equivalence between polytopes and bounded polyhedra gives a first glimpse into linear programming duality theory, a topic of central importance in both modeling and algorithm design."
   ]
  }
 ],
 "metadata": {
  "kernelspec": {
   "display_name": "Python [py27]",
   "language": "python",
   "name": "Python [py27]"
  },
  "language_info": {
   "codemirror_mode": {
    "name": "ipython",
    "version": 2
   },
   "file_extension": ".py",
   "mimetype": "text/x-python",
   "name": "python",
   "nbconvert_exporter": "python",
   "pygments_lexer": "ipython2",
   "version": "2.7.12"
  }
 },
 "nbformat": 4,
 "nbformat_minor": 0
}
