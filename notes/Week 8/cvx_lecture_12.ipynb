{
 "cells": [
  {
   "cell_type": "markdown",
   "metadata": {},
   "source": [
    "<img style=\"float: left; width: 260px;\" src=\"images/lect13-1.png\">\n",
    "***\n",
    "# <font color=\"grey\">$\\quad$ Lecture 12 - Towards an Interior Point Method</font>\n",
    "***\n",
    "$\\newcommand{\\vct}[1]{\\mathbf{#1}}$\n",
    "$\\newcommand{\\mtx}[1]{\\mathbf{#1}}$\n",
    "$\\newcommand{\\e}{\\varepsilon}$\n",
    "$\\newcommand{\\norm}[1]{\\|#1\\|}$\n",
    "$\\newcommand{\\minimize}{\\text{minimize}\\quad}$\n",
    "$\\newcommand{\\maximize}{\\text{maximize}\\quad}$\n",
    "$\\newcommand{\\subjto}{\\quad\\text{subject to}\\quad}$\n",
    "$\\newcommand{\\R}{\\mathbb{R}}$\n",
    "$\\newcommand{\\trans}{T}$\n",
    "$\\newcommand{\\ip}[2]{\\langle {#1}, {#2} \\rangle}$\n",
    "$\\newcommand{\\zerovct}{\\vct{0}}$\n",
    "$\\newcommand{\\diff}[1]{\\mathrm{d}{#1}}$\n",
    "$\\newcommand{\\conv}{\\operatorname{conv}}$\n",
    "$\\newcommand{\\inter}{{\\operatorname{int}}}$"
   ]
  },
  {
   "cell_type": "markdown",
   "metadata": {},
   "source": [
    "Recall the following primal dual standard forms of linear programming,\n",
    "\n",
    "\\begin{equation*}\\tag{P}\n",
    " \\minimize \\ip{\\vct{c}}{\\vct{x}} \\quad \\subjto \\mtx{A}\\vct{x}=\\vct{b}, \\ \\vct{x}\\geq \\zerovct.\n",
    "\\end{equation*}\n",
    "\n",
    "for a matrix $\\mtx{A}\\in \\R^{m\\times n}, \\vct{b}\\in \\R^m$ and $\\vct{c}\\in \\R^n$, and\n",
    "\n",
    "\\begin{equation*}\\tag{D}\n",
    "\\maximize \\ip{\\vct{b}}{\\vct{y}} \\quad \\subjto \\mtx{A}^{\\trans}\\vct{y}+\\vct{s}=\\vct{c}, \\ \\vct{s}\\geq \\zerovct.\n",
    "\\end{equation*}\n",
    "\n",
    "For what follows, we assume $m\\leq n$, as otherwise (D) is unbounded and (P) empty.\n",
    "\n",
    "Based on (P) and (D), we get the optimality conditions (see Lecture 11)\n",
    "\n",
    "\\begin{align*}\\tag{O}\n",
    "  \\mtx{A}^{\\trans}\\vct{y}+\\vct{s}-\\vct{c} &= \\zerovct\\\\\n",
    "  \\mtx{A}\\vct{x}-\\vct{b} & = \\zerovct\\\\\n",
    "  \\mtx{X}\\mtx{S}\\vct{e} &= \\zerovct\\\\\n",
    "  \\vct{x}&\\geq \\zerovct\\\\\n",
    "  \\vct{s}&\\geq \\zerovct,\n",
    "\\end{align*}\n",
    "\n",
    "where $\\vct{X}$ is the diagonal matrix with the $x_i$ in the diagonal, $\\mtx{S}$ the diagonal matrix with the $s_i$ on the diagonal, and $\\vct{e}$ the vector with all ones ($\\mtx{X}\\mtx{S}\\vct{e}$ is just a compact way of writing the vector with entries $x_is_i$).\n",
    "If we define the function $\\R^{2n+m}\\to \\R^{2n+m}$\n",
    "\n",
    "\\begin{equation*}\n",
    " F(\\vct{x},\\vct{y},\\vct{s}) = \\begin{pmatrix}\n",
    "                               \\mtx{A}^{\\trans}\\vct{y}+\\vct{s}-\\vct{c}\\\\\n",
    "                               \\mtx{A}\\vct{x}-\\vct{b}\\\\\n",
    "                               \\mtx{X}\\mtx{S}\\vct{e} \n",
    "                              \\end{pmatrix}\n",
    "\\end{equation*}\n",
    "\n",
    "then what we are looking for is a {\\em root} $(\\vct{x}^*,\\vct{y}^*,\\vct{s}^*)$ of this function, i.e., a point with $F(\\vct{x}^*,\\vct{y}^*,\\vct{s}^*)=\\zerovct$, with the additional property that $\\vct{x}^*$ and $\\vct{s}^*$ be non-negative. For later reference, we record the form of the **Jacobian** matrix of $F$,\n",
    "\n",
    "\\begin{equation*}\n",
    " \\mtx{J}F(\\vct{x},\\vct{y},\\vct{s}) = \\begin{pmatrix}\n",
    "\\zerovct & \\mtx{A}^{\\trans} & \\mtx{I} \\\\\n",
    "  \\mtx{A} & \\zerovct & \\zerovct \\\\\n",
    "  \\mtx{S} & \\zerovct & \\mtx{X}\n",
    " \\end{pmatrix}.\n",
    "\\end{equation*}\n"
   ]
  },
  {
   "cell_type": "markdown",
   "metadata": {},
   "source": [
    "---\n",
    "## <font color=\"grey\">12.1 Towards an efficient interior-point method</font>\n",
    "---"
   ]
  },
  {
   "cell_type": "markdown",
   "metadata": {},
   "source": [
    "The challenge is to find an iterative method of solving this rootfinding problem while preserving the non-negativity constraints. We discuss three approaches, in increasing order of sophistication. The third of these approaches forms the basis of **primal dual interior point methods**. \n"
   ]
  },
  {
   "cell_type": "markdown",
   "metadata": {},
   "source": [
    "**A first attempt. ** A first attempt at solving the problem $F(\\vct{x},\\vct{y},\\vct{s})=\\zerovct$, with $\\vct{x}\\geq \\zerovct, \\vct{s}\\geq \\zerovct$, is to apply Newton's method with really small steps.\n",
    "For that, at each step we solve\n",
    "\n",
    "\\begin{equation*}\n",
    "\\begin{pmatrix}\n",
    "  \\zerovct & \\mtx{A}^{\\trans} & \\mtx{I} \\\\\n",
    "  \\mtx{A} & \\zerovct & \\zerovct \\\\\n",
    "  \\mtx{S}^{(k)} & \\zerovct & \\mtx{X}^{(k)}\n",
    " \\end{pmatrix}\n",
    "\\begin{pmatrix} \\Delta\\vct{x}\\\\ \\Delta \\vct{y}\\\\ \\Delta\\vct{s} \\end{pmatrix} = \\begin{pmatrix} \\vct{c}-\\vct{s}^{(k)}-\\mtx{A}^{\\trans}\\vct{y}^{(k)}\\\\ \\vct{b}-\\mtx{A}\\vct{x}^{(k)}\\\\ -\\vct{X}^{(k)}\\mtx{S}^{(k)}\\vct{e}\\end{pmatrix}.\n",
    "\\end{equation*}\n",
    "\n",
    "and then compute\n",
    "\n",
    "\\begin{equation*}\n",
    "\\begin{pmatrix} \\vct{x}^{k+1}\\\\ \\vct{y}^{k+1}\\\\ \\vct{s}^{k+1}\\end{pmatrix}= \\begin{pmatrix} \\vct{x}^{k}\\\\ \\vct{y}^{k}\\\\ \\vct{s}^{k}\\end{pmatrix} +\\alpha_k \\begin{pmatrix} \\Delta\\vct{x}\\\\ \\Delta \\vct{y}\\\\ \\Delta\\vct{s} \\end{pmatrix},\n",
    " \\end{equation*}\n",
    "\n",
    "choosing the step length $\\alpha_k$ so that the non-negativity of $\\vct{x}$ and $\\vct{s}$ remains. Note that above we have a + sign in front of alpha. That is because in the system of equations above, we took the negative $-F(\\vct{x}_k,\\vct{y}_k,\\vct{s}_k)$. "
   ]
  },
  {
   "cell_type": "markdown",
   "metadata": {},
   "source": [
    "**Example. ** Consider the linear programming problem\n",
    "  \n",
    "  \\begin{align*}\n",
    "   \\minimize & x_1+2x_2-2x_3\\\\\n",
    "   & x_1-2x_3\\\\\n",
    "   & x_2-x_3=-1\\\\\n",
    "   & x_1\\geq 0, \\ x_2\\geq 0, \\ x_3\\geq 0.\n",
    "  \\end{align*}\n",
    "\n",
    "The data for this problem is given by\n",
    "\n",
    "\\begin{equation*}\n",
    " \\mtx{A} = \\begin{pmatrix} 1 & 0 & -2\\\\ 0 & 1 & -1\\end{pmatrix}, \\ \n",
    " \\vct{b} = \\begin{pmatrix} 1 \\\\ -1 \\end{pmatrix}, \\ \n",
    " \\vct{c} = \\begin{pmatrix} 1 \\\\ 2 \\\\ -2 \\end{pmatrix}.\n",
    "\\end{equation*}\n",
    "\n",
    "Based on this data, the function $F$ given by\n",
    "\n",
    "\\begin{equation*}\n",
    " F(\\vct{x},\\vct{y},\\vct{s}) = \\begin{pmatrix}\n",
    "                               y_1+s_1-1\\\\\n",
    "                               y_2+s_2-2\\\\\n",
    "                               -2y_1-y_2+s_3+2\\\\\n",
    "                               x_1-2x_3-1\\\\\n",
    "                               x_2-x_3+1\\\\\n",
    "                               x_1s_1\\\\\n",
    "                               x_2s_2\\\\\n",
    "                               x_3s_3\n",
    "                              \\end{pmatrix}\n",
    "\\end{equation*}\n",
    "\n",
    "and the Jacobian matrix\n",
    "\n",
    "\\begin{equation*}\n",
    " \\mtx{J}F(\\vct{x},\\vct{y},\\vct{s}) = \\begin{pmatrix}\n",
    "                                0 & 0 & 0 & 1 & 0 & 1 & 0 & 0\\\\\n",
    "                                0 & 0 & 0 & 0 & 1 & 0 & 1 & 0\\\\\n",
    "                                0 & 0 & 0 & -2 & -1 & 0 & 0 & 1\\\\\n",
    "                                1 & 0 & -2 & 0 & 0 & 0 & 0 & 0 \\\\\n",
    "                                0 & 1 & -1 & 0 & 0 & 0 & 0 & 0 \\\\\n",
    "                                s_1 & 0 & 0 & 0 & 0 & x_1 & 0 & 0 \\\\\n",
    "                                0 & s_2 & 0 & 0 & 0 & 0 & x_2 & 0\\\\\n",
    "                                0 & 0 & s_3 & 0 & 0 & 0 & 0 & x_3\n",
    "                               \\end{pmatrix}.\n",
    "\\end{equation*}\n",
    "\n",
    "With this data at hand, we can easily use a Python program to solve the problem for us, making sure that the steplength is small enough. Starting with $\\vct{x}^{(0)}=\\vct{s}^{(0)}=(1,1,1)^\\trans$, we get the correct vector in $3$ iterations,\n",
    "\n",
    "\\begin{equation*}\n",
    " \\vct{x}^{(3)} = \\begin{pmatrix}\n",
    "                  3 \\\\ 0 \\\\ 1\n",
    "                 \\end{pmatrix}.\n",
    "\\end{equation*}\n",
    "\n",
    "One verifies that $\\vct{x}^{(3)}$ is in fact a vertext of the feasible set, and $\\ip{\\vct{x}^{(3)}}{\\vct{c}}=1$ gives the optimal value. The following Python code illustrates this."
   ]
  },
  {
   "cell_type": "code",
   "execution_count": 103,
   "metadata": {
    "collapsed": true
   },
   "outputs": [],
   "source": [
    "import numpy as np\n",
    "import numpy.linalg as la\n",
    "\n",
    "def newton_nn(F, JF, x0, nn_ind, tol=1e-4, maxiter=5):\n",
    "    \"\"\"Newton's method for solving a system of equations in higher dimensions, ensuring the entries stay non-negative.\n",
    "    This implementation records and returns the whole trajectory.\n",
    "    F:       Equations to be solved\n",
    "    JF:      Jacobian matrix\n",
    "    nn_ind:  indices in which to ensure non-negativity\n",
    "    tol:     stop if norm of difference of iterates below tol\n",
    "    maxiter: maximum iterations (does not need to be large for Newton's method)\n",
    "    \"\"\"\n",
    "    n = x0.shape[0]\n",
    "    x = np.zeros((n,maxiter+1))\n",
    "    # Initialize 0-th iterate to some big number, and first one to x0\n",
    "    x[:,1] = x0\n",
    "    x[:,0] = x0+10*tol*np.ones(n)\n",
    "    i = 1\n",
    "    \n",
    "    while la.norm(x[:,i]-x[:,i-1])>tol and i<maxiter:\n",
    "        delta = la.solve(JF(x[:,i]), F(x[:,i]))\n",
    "        # find optimal steplength\n",
    "        alpha = 1.\n",
    "        ind = np.argmin(x[nn_ind,i]-delta[nn_ind])\n",
    "        if x[ind,i]-delta[ind]<0:\n",
    "            alpha = x[ind,i]/delta[i]\n",
    "        xnew = x[:,i]-alpha*delta\n",
    "        x[:,i+1] = xnew\n",
    "        i += 1\n",
    "    return x[:,1:i+2]"
   ]
  },
  {
   "cell_type": "code",
   "execution_count": 104,
   "metadata": {
    "collapsed": true
   },
   "outputs": [],
   "source": [
    "def F(x):\n",
    "    \"\"\"The x variables are x[0] to x[2], the y variables x[3] to x[4], and s are x[5] to x[7]\n",
    "    \"\"\"\n",
    "    return np.array([x[3]+x[5]-1, \n",
    "                    x[4]-x[6]-2,\n",
    "                    -2*x[3]-x[4]+x[7]+2,\n",
    "                    x[0]-2*x[2]-1,\n",
    "                    x[1]-x[2]+1,\n",
    "                    x[0]*x[5],\n",
    "                    x[1]*x[6],\n",
    "                    x[2]*x[7]])\n",
    "\n",
    "def JF(x):\n",
    "    return np.array([[0, 0, 0,  1,  0, 1, 0, 0],\n",
    "                     [0, 0, 0,  0,  1, 0, 1, 0],\n",
    "                     [0, 0, 0, -2, -1, 0, 0, 1],\n",
    "                     [1, 0, -2, 0,  0, 0, 0, 0],\n",
    "                     [0, 1, -1, 0,  0, 0, 0, 0],\n",
    "                     [x[5], 0, 0, 0, 0, x[0], 0, 0],\n",
    "                     [0, x[6], 0, 0, 0, 0, x[1], 0],\n",
    "                     [0, 0, x[7], 0, 0, 0, 0, x[2]]])\n",
    "\n",
    "nn_ind = [0, 1, 2, 5, 6, 7]"
   ]
  },
  {
   "cell_type": "code",
   "execution_count": 121,
   "metadata": {
    "collapsed": false
   },
   "outputs": [],
   "source": [
    "x0 = np.ones(8)\n",
    "x0[3:5] = np.array([0.8,1])\n",
    "xout = newton_nn(F, JF, x0, nn_ind)"
   ]
  },
  {
   "cell_type": "code",
   "execution_count": 122,
   "metadata": {
    "collapsed": false
   },
   "outputs": [
    {
     "data": {
      "text/plain": [
       "array([[ 1.        ,  0.84615385,  3.        ,  3.        ,  3.        ],\n",
       "       [ 1.        ,  0.        ,  0.        ,  0.        ,  0.        ],\n",
       "       [ 1.        ,  0.46153846,  1.        ,  1.        ,  1.        ]])"
      ]
     },
     "execution_count": 122,
     "metadata": {},
     "output_type": "execute_result"
    }
   ],
   "source": [
    "xout[0:3,:5]"
   ]
  },
  {
   "cell_type": "markdown",
   "metadata": {},
   "source": [
    "**A second attempt. ** In general, the method of choosing small step lengths can be slow. A variation would be to solve for\n",
    "\n",
    "\\begin{equation*}\n",
    " F(\\vct{x},\\vct{y},\\vct{s}) = \\begin{pmatrix}\n",
    "                               \\vct{0}\\\\ \\vct{0} \\\\ \\tau \\vct{e}\n",
    "                              \\end{pmatrix},\n",
    "\\end{equation*}\n",
    "\n",
    "for a parameter $\\tau>0$. Given some fixed initial values $\\vct{x}\\geq 0$ and $\\vct{s}\\geq 0$, compute the **duality measure**\n",
    "\n",
    "\\begin{equation*}\n",
    " \\mu = \\frac{1}{d} \\sum_{i=1}^d x_is_i\n",
    "\\end{equation*}\n",
    "\n",
    "as the average of the products and using the **centering parameter** $\\sigma\\in (0,1)$, set $\\tau = \\sigma \\mu$. When aiming to solve the system above using Newton's method, we are aiming towards a solution $(\\vct{x}^*,\\vct{y}^*,\\vct{s}^*)$ where instead of asking that $x_i^*s_i^*=0$, we want that $x_i^*s_i^*=\\sigma \\mu$, a value that is strictly positive, but smaller than average of the initial value.\n",
    "\n",
    "In an additional twist to this approach, after starting with an initial guess $(\\vct{x},\\vct{y},\\vct{s})$, we perform only {\\em one} Newton step, and then update the duality measure $\\mu$ with the new values of $\\vct{x}$ and $\\vct{s}$. This way we arrive at the following algorithm: \n",
    "\n",
    "* Start with $(\\vct{x}^{(0)},\\vct{y}^{(0)},\\vct{s}^{(0)})$;\n",
    "* For each $k\\geq 0$, compute \n",
    " \n",
    " \\begin{equation*}\n",
    "  \\mu^{(k)} = \\frac{1}{d} \\sum_{i=1}^d x_is_i\n",
    " \\end{equation*}\n",
    "\n",
    "and $\\sigma_k$. Solve\n",
    "\n",
    "\\begin{equation*}\n",
    " \\begin{pmatrix}\n",
    "  \\zerovct & \\mtx{A}^{\\trans} & \\mtx{I} \\\\\n",
    "  \\mtx{A} & \\zerovct & \\zerovct \\\\\n",
    "  \\mtx{S}^{(k)} & \\zerovct & \\mtx{X}^{(k)}\n",
    " \\end{pmatrix}\n",
    "\\begin{pmatrix} \\Delta\\vct{x}\\\\ \\Delta \\vct{y}\\\\ \\Delta\\vct{s} \\end{pmatrix} = \\begin{pmatrix} \\vct{c}-\\vct{s}^{(k)}-\\mtx{A}^{\\trans}\\vct{y}^{(k)}\\\\ \\vct{b}-\\mtx{A}\\vct{x}^{(k)}\\\\ -\\vct{X}^{(k)}\\mtx{S}^{(k)}\\vct{e}+\\sigma \\mu^{(k)}\\end{pmatrix}\n",
    "\\end{equation*}\n",
    "\n",
    "and compute\n",
    "\n",
    "\\begin{equation*}\n",
    "\\begin{pmatrix} \\vct{x}^{k+1}\\\\ \\vct{y}^{k+1}\\\\ \\vct{s}^{k+1}\\end{pmatrix}= \\begin{pmatrix} \\vct{x}^{k}\\\\ \\vct{y}^{k}\\\\ \\vct{s}^{k}\\end{pmatrix} +\\alpha_k \\begin{pmatrix} \\Delta\\vct{x}\\\\ \\Delta \\vct{y}\\\\ \\Delta\\vct{s} \\end{pmatrix},\n",
    " \\end{equation*}\n",
    " \n",
    "for a small enough $\\alpha_k>0$ to ensure non-negativity."
   ]
  },
  {
   "cell_type": "markdown",
   "metadata": {},
   "source": [
    "**A third attempt. ** For the purpose of analysis, it is convenient to let an interior point method operate on vectors that satisfy the first two equalities in the system of equations exactly. Define the feasible and strictly feasible sets as\n",
    "\n",
    "\\begin{align*}\n",
    " \\mathcal{F} &= \\{(\\vct{y},\\vct{s},\\vct{x}) \\mid \\mtx{A}^{\\trans}\\vct{y}+\\vct{s}=\\vct{c}, \\ \\mtx{A}\\vct{x}=\\vct{b}, \\ \\vct{x}\\geq \\zerovct, \\ \\vct{s}\\geq \\zerovct\\}\\\\\n",
    " \\mathcal{F}^{\\circ} &= \\{(\\vct{y},\\vct{s},\\vct{x}) \\mid \\mtx{A}^{\\trans}\\vct{y}+\\vct{s}=\\vct{c}, \\ \\mtx{A}\\vct{x}=\\vct{b}, \\ \\vct{x}> \\zerovct, \\ \\vct{s}> \\zerovct\\}\\\\\n",
    "\\end{align*}\n",
    "\n",
    "Restricting to points in $\\mathcal{F}^{\\circ}$, the computation of the Newton update in the second approach would change to\n",
    "\n",
    "\\begin{equation*}\n",
    " \\begin{pmatrix}\n",
    "  \\zerovct & \\mtx{A}^{\\trans} & \\mtx{I} \\\\\n",
    "  \\mtx{A} & \\zerovct & \\zerovct \\\\\n",
    "  \\mtx{S}^{(k)} & \\zerovct & \\mtx{X}^{(k)}\n",
    " \\end{pmatrix}\n",
    "\\begin{pmatrix} \\Delta\\vct{x}\\\\ \\Delta \\vct{y}\\\\ \\Delta\\vct{s} \\end{pmatrix} = \\begin{pmatrix} \\zerovct \\\\ \\zerovct \\\\ -\\vct{X}^{(k)}\\mtx{S}^{(k)}\\vct{e}+\\sigma \\mu^{(k)}\\end{pmatrix}\n",
    "\\end{equation*}\n",
    "\n",
    "In each iteration, a Newton step is taken in the direction of the {\\em central path}. This is a curve in $\\mathcal{F}^{\\circ}$ defined as the set of solutions of\n",
    "\n",
    "\\begin{align*}\n",
    " \\begin{split}\n",
    "  \\mtx{A}^{\\trans}\\vct{y}+\\vct{s}-\\vct{c} &= \\zerovct\\\\\n",
    "  \\mtx{A}\\vct{x}-\\vct{b} & = \\zerovct\\\\\n",
    "  \\mtx{X}\\mtx{S}\\vct{e} &= \\tau \\vct{e}\\\\\n",
    "  \\vct{x}&> \\zerovct\\\\\n",
    "  \\vct{s}&> \\zerovct,\n",
    " \\end{split}\n",
    "\\end{align*}\n",
    "\n",
    "where $\\tau>0$. As $\\tau\\to 0$, any solution of this system will converge to an optimal primal-dual vector $(\\vct{x},\\vct{y},\\vct{s})$ for the original linear programming problem. As we will see, practical primal-dual interior point methods will try to ensure that we always move within a neighbourhood of the central path. While this third approach lends itself well to analysis, one problem is that a starting point $(\\vct{x}^{(0)},\\vct{y}^{(0)},\\vct{s}^{(0)})\\in \\mathcal{F}^{\\circ}$ may be hard to find."
   ]
  },
  {
   "cell_type": "code",
   "execution_count": null,
   "metadata": {
    "collapsed": true
   },
   "outputs": [],
   "source": []
  }
 ],
 "metadata": {
  "anaconda-cloud": {},
  "kernelspec": {
   "display_name": "Python [default]",
   "language": "python",
   "name": "python2"
  },
  "language_info": {
   "codemirror_mode": {
    "name": "ipython",
    "version": 2
   },
   "file_extension": ".py",
   "mimetype": "text/x-python",
   "name": "python",
   "nbconvert_exporter": "python",
   "pygments_lexer": "ipython2",
   "version": "2.7.12"
  }
 },
 "nbformat": 4,
 "nbformat_minor": 1
}
