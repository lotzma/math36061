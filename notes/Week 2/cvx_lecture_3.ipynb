{
 "cells": [
  {
   "cell_type": "markdown",
   "metadata": {},
   "source": [
    "<img style=\"float: left; width: 300px;\" src=\"images/contourtraj.png\">\n",
    "***\n",
    "# <font color=\"grey\">    Lecture 3 - Gradient Descent</font>\n",
    "***\n",
    "$\\newcommand{\\vct}[1]{\\mathbf{#1}}$\n",
    "$\\newcommand{\\mtx}[1]{\\mathbf{#1}}$\n",
    "$\\newcommand{\\e}{\\varepsilon}$\n",
    "$\\newcommand{\\norm}[1]{\\|#1\\|}$\n",
    "$\\newcommand{\\minimize}{\\text{minimize}\\quad}$\n",
    "$\\newcommand{\\maximize}{\\text{maximize}\\quad}$\n",
    "$\\newcommand{\\subjto}{\\quad\\text{subject to}\\quad}$\n",
    "$\\newcommand{\\R}{\\mathbb{R}}$\n",
    "$\\newcommand{\\trans}{T}$\n",
    "$\\newcommand{\\ip}[2]{\\langle {#1}, {#2} \\rangle}$\n",
    "$\\newcommand{\\zerovct}{\\vct{0}}$\n",
    "$\\newcommand{\\diff}[1]{\\mathrm{d}{#1}}$"
   ]
  },
  {
   "cell_type": "markdown",
   "metadata": {
    "collapsed": true
   },
   "source": [
    "Most modern optimization methods are iterative: they generate a sequence of points $\\vct{x}_0,\\vct{x}_1,\\dots$ in $\\R^n$\n",
    "in the hope that this sequences will converge to a local or global minimizer $\\vct{x}^*$ of a function $f(\\vct{x})$. A typical rule for generating such a sequence would be to start with a vector $\\vct{x}_0$, chosen by an educated guess, and then for $k\\geq 0$, move from step $k$ to $k+1$ by\n",
    "\n",
    "\\begin{equation*}\n",
    " \\vct{x}_{k+1} = \\vct{x}_k+\\alpha_k\\vct{p}_k,\n",
    "\\end{equation*}\n",
    "\n",
    "in a way that ensures that $f(\\vct{x}_{k+1})\\leq f(\\vct{x}_k)$.\n",
    "The parameter $\\alpha_k$ is called the **step length**, while $\\vct{p}_k$ is the **search direction**. In this lecture we discuss one such method, the method of gradient descent, or steepest descent, and discuss how to select the right step length."
   ]
  },
  {
   "cell_type": "markdown",
   "metadata": {},
   "source": [
    "---\n",
    "## <font color=\"grey\">Gradient descent</font>\n",
    "---"
   ]
  },
  {
   "cell_type": "markdown",
   "metadata": {},
   "source": [
    "In the method of gradient descent, the search direction is chosen as\n",
    "\n",
    "\\begin{equation*}\n",
    " \\vct{p}_k = -\\nabla f(\\vct{x}_k).\n",
    "\\end{equation*}\n",
    "\n",
    "To see why this makes sense, let $\\vct{p}$ be a direction and consider the Taylor expansion\n",
    "\n",
    "\\begin{equation*}\n",
    " f(\\vct{x}_k+\\alpha \\vct{p}) = f(\\vct{x}_k)+\\alpha \\ip{\\vct{p}}{\\nabla f(\\vct{x}_k)}+O(\\alpha^2).\n",
    "\\end{equation*}\n",
    "\n",
    "Considering this as a function of $\\alpha$, the rate of change in direction $\\vct{p}$ at $\\vct{x}_k$ is the derivative of this function at $\\alpha=0$,\n",
    "\n",
    "\\begin{equation*}\n",
    " \\frac{\\diff{f}(\\vct{x}_k+\\alpha \\vct{p})}{\\diff{\\alpha}}|_{\\alpha=0} = \\ip{\\vct{p}}{\\nabla f(\\vct{x}_k)},\n",
    "\\end{equation*}\n",
    "\n",
    "also known as the **directional derivative** of $f$ at $\\vct{x}_k$ in the direction $\\vct{p}$.\n",
    "This formula indicates that the rate of change is *negative*, and we have a **descent direction**, if $\\ip{\\vct{p}}{\\nabla f(\\vct{x}_k)}<0$. \n",
    "\n",
    "The Cauchy-Schwarz inequality (see Preliminaries, Page 9) gives the bounds\n",
    "\n",
    "\\begin{equation*}\n",
    " -\\norm{\\vct{p}}_2 \\norm{\\nabla f(\\vct{x}_k)}_2 \\leq \\ip{\\vct{p}}{\\nabla f(\\vct{x}_k)} \\leq \\norm{\\vct{p}}_2 \\norm{\\nabla f(\\vct{x}_k)}_2.\n",
    "\\end{equation*}\n",
    "\n",
    "We see that the rate of change is the smallest when the first inequality is an equality, which happens if \n",
    "\n",
    "\\begin{equation*}\n",
    " \\vct{p} = -\\alpha \\nabla f(\\vct{x}_k)\n",
    "\\end{equation*}\n",
    "\n",
    "for some $\\alpha>0$. \n",
    "\n",
    "For a visual interpretation of what it means to be a descent direction, note that the **angle** $\\theta$ between a vector $\\vct{p}$ and the gradient $\\nabla f(\\vct{x})$ at a point $\\vct{x}$ is given by (see Preliminaries, Page 9)\n",
    "\n",
    "\\begin{equation*}\n",
    "  \\ip{\\vct{x}}{\\nabla f(\\vct{x})} = \\norm{\\vct{p}}_2\\norm{\\nabla f(\\vct{x})}_2 \\cos(\\theta).\n",
    "\\end{equation*}\n",
    "\n",
    "This is negative if the vector $\\vct{p}$ forms and angle greater than $\\pi/2$ with the gradient. Recall that the gradient points in the direction of steepest ascent, and is orthogonal to the *level sets*. If you are standing on the slope of a mountain, walking along the level set lines will not change your elevation, the gradient points to the steepest upward direction, and the negative gradient to the steepest descent.\n",
    "\n",
    "![Descent](images/descent.png)\n",
    "\n",
    "Any multiple $\\alpha \\nabla f(\\vct{x}_k)$ points in the direction of steepest descent, but we have to choose a sensible parameter $\\alpha$ to ensure that we make sufficient progress, but at the same time don't overshoot. Ideally, we would choose the value $\\alpha_k$ that minimizes $f(\\vct{x}_k-\\alpha_k \\nabla f(\\vct{x}_k))$. While finding such a minimizer is in general not easy, for quadratic functions in can be given in closed form.\n"
   ]
  },
  {
   "cell_type": "markdown",
   "metadata": {},
   "source": [
    "---\n",
    "### <font color=\"grey\">Linear least squares</font>\n",
    "---"
   ]
  },
  {
   "cell_type": "markdown",
   "metadata": {},
   "source": [
    "Consider a function of the form\n",
    "\n",
    "\\begin{equation*}\n",
    " f(\\vct{x}) = \\frac{1}{2}\\norm{\\mtx{A}\\vct{x}-\\vct{b}}_2^2.\n",
    "\\end{equation*}\n",
    "\n",
    "In Problem Sheet 1 you will show that that the Hessian is symmetric and positive semidefinite, with the gradient given by\n",
    "\n",
    "\\begin{equation*}\n",
    " \\nabla f(\\vct{x}) = \\mtx{A}^{\\trans}(\\mtx{A}\\vct{x}-\\vct{b}).\n",
    "\\end{equation*}\n",
    "\n",
    "The method of gradient descent proceeds as\n",
    "\n",
    "\\begin{equation*}\n",
    " \\vct{x}_{k+1} = \\vct{x}_k-\\alpha_k \\mtx{A}^{\\top}(\\mtx{A}\\vct{x}_k-\\vct{b}).\n",
    "\\end{equation*}\n",
    "\n",
    "To find the best $\\alpha_k$, we compute the minimum of the function\n",
    "\n",
    "[1]\n",
    "\\begin{equation*}\n",
    " \\alpha \\mapsto f(\\vct{x}_k-\\alpha \\mtx{A}^{\\trans}(\\mtx{A}\\vct{x}_k-\\vct{b})).\n",
    "\\end{equation*}\n",
    "\n",
    "If we set $\\vct{r}_k:=\\mtx{A}^{\\trans}(\\vct{b}-\\mtx{A}\\vct{x}_k) = -\\nabla f(\\vct{x}_k)$ and compute the minimum of [1] by differentiating, we get the step length\n",
    "\n",
    "\\begin{equation*}\n",
    " \\alpha_k = \\frac{\\vct{r}_k^{\\trans}\\vct{r}_k}{\\vct{r}_k^{\\trans}\\mtx{A}^\\trans\\mtx{A}\\vct{r}_k} = \\frac{\\norm{\\vct{r}_k}_2^2}{\\norm{\\mtx{A}\\vct{r}_k}_2^2}.\n",
    "\\end{equation*}\n",
    "\n",
    "(Verify this!) Note also that when we have $\\vct{r}_k$ and $\\alpha_k$, we can compute the next $\\vct{r}_k$ as\n",
    "\n",
    "\\begin{align*}\n",
    " r_{k+1} &= \\mtx{A}^{\\trans}(\\vct{b}-\\mtx{A}\\vct{x}_{k+1})\\\\\n",
    "         &= \\mtx{A}^{\\trans}(\\vct{b}-\\mtx{A}(\\vct{x}_{k}+\\alpha_k \\vct{r}_k))\\\\\n",
    "         &= \\mtx{A}^{\\trans}(\\vct{b}-\\mtx{A}\\vct{x}_k - \\alpha_k \\mtx{A}^{\\trans}\\mtx{A}\\vct{r}_k) = \\vct{r}_k - \\alpha_k \\mtx{A}^{\\trans}\\mtx{A}\\vct{r}_k.\n",
    "\\end{align*}\n",
    "\n",
    "The gradient descent algorithm for the linear least squares problem proceeds by first computing $\\vct{r}_0=\\mtx{A}^{\\trans}(\\vct{b}-\\mtx{A}\\vct{x}_0)$, and then at each step\n",
    "\n",
    "\\begin{align*}\n",
    " \\alpha_k &= \\frac{\\vct{r}_k^{\\trans}\\vct{r}_k}{\\vct{r}_k^{\\trans}\\mtx{A}^\\trans\\mtx{A}\\vct{r}_k}\\\\\n",
    " \\vct{x}_{k+1} &= \\vct{x}_k+\\alpha_k \\vct{r}_k\\\\\n",
    " \\vct{r}_{k+1} &= \\vct{r}_k - \\alpha_{k}\\mtx{A}^{\\trans}\\mtx{A}\\vct{r}_k.\n",
    "\\end{align*}\n",
    "\n",
    "Does this work? How do we know when to stop? It is worth noting that the residual satisfies $\\vct{r}=0$ if and only if $\\vct{x}$ is a stationary point, in our case, a minimizer. One criteria for stopping could then be to check whether $\\norm{\\vct{r}_k}_2\\leq \\e$ for some given tolerance $\\e>0$. One potential problem with this criterion is that the function can become *flat* long before reaching a minimum, so an alternative stopping method would be to stop when the difference between two successive points, $\\norm{\\vct{x}_{k+1}-\\vct{x}_k}_2$, becomes smaller than some $\\e>0$."
   ]
  },
  {
   "cell_type": "markdown",
   "metadata": {},
   "source": [
    "**Example.** We plot the trajectory of gradient descent with the data\n",
    "\\begin{equation*}\n",
    "\\mtx{A} = \\begin{pmatrix}\n",
    "2 & 0\\\\\n",
    "1 & 3\\\\\n",
    "0 & 1\n",
    "\\end{pmatrix}, \\quad\n",
    "\\vct{b} = \\begin{pmatrix}\n",
    "1\\\\ -1\\\\ 0\n",
    "\\end{pmatrix}.\n",
    "\\end{equation*}\n",
    "\n",
    "The Python code below implements the gradient descent algorithm above. The stopping criteria used is that the residual $\\vct{r}_k$ becomes smaller than the tolerance in the 2-norm."
   ]
  },
  {
   "cell_type": "code",
   "execution_count": 1,
   "metadata": {
    "collapsed": false
   },
   "outputs": [
    {
     "data": {
      "image/png": "[encoded data removed]",
      "text/plain": [
       "<matplotlib.figure.Figure at 0x756fa58>"
      ]
     },
     "metadata": {},
     "output_type": "display_data"
    }
   ],
   "source": [
    "import numpy as np\n",
    "import numpy.linalg as la\n",
    "import matplotlib.pyplot as plt\n",
    "\n",
    "# The function graddesc performs the gradient descent algorithm with starting value x and tolerance tol\n",
    "def graddesc(A, b, x, tol):\n",
    "    \"\"\"\n",
    "    Input: matrix A, vector b, vector x, tolarance tol\n",
    "    Output: trajectory of points x_0,x_1,... of the gradient descent method\n",
    "    \"\"\"\n",
    "    # Compute the negative gradient r = A^T(b-Ax)\n",
    "    r = np.dot(A.transpose(),b-np.dot(A,x))\n",
    "    # Start with an empty array\n",
    "    xout = [x]\n",
    "    while la.norm(r,2) > tol:\n",
    "        # If the gradient is bigger than the tolerance\n",
    "        Ar = np.dot(A,r)\n",
    "        alpha = np.dot(r,r)/np.dot(Ar,Ar)\n",
    "        x = x + alpha*r\n",
    "        xout.append(x)\n",
    "        r = r-alpha*np.dot(A.transpose(),Ar)\n",
    "    return np.array(xout).transpose()\n",
    "\n",
    "# Define the matrix A and the vector b for the problem we consider, as well as the zero starting point\n",
    "A = np.array([[2,0], [1,3], [0,1]])\n",
    "b = np.array([1, -1, 0])\n",
    "tol = 1e-4\n",
    "x = np.zeros(2)\n",
    "\n",
    "# Call the gradient descent function with input A and with starting value x=0\n",
    "traj = graddesc(A, b, x, tol)\n",
    "\n",
    "# Plot\n",
    "%matplotlib inline\n",
    "\n",
    "# Define the function we aim to minimize\n",
    "def f(x):\n",
    "    return np.dot(np.dot(A,x)-b,np.dot(A,x)-b)\n",
    "\n",
    "# Determine the values of the function for the first 7 steps\n",
    "# This is used to specify the location of the level sets\n",
    "fvals = []\n",
    "for i in range(7):\n",
    "    fvals.append(f(traj[:,i]))\n",
    "    \n",
    "# Create a mesh grid for plotting the contours / level sets \n",
    "xx = np.linspace(0.1,0.5,100)\n",
    "yy = np.linspace(-0.5,-0.1,100)\n",
    "X, Y = np.meshgrid(xx, yy)\n",
    "Z = np.zeros(X.shape)\n",
    "for i in range(Z.shape[0]):\n",
    "    for j in range(Z.shape[1]):\n",
    "        Z[i,j] = f(np.array([X[i,j], Y[i,j]]))\n",
    "\n",
    "# Get a nice monotone colormap\n",
    "cmap = plt.cm.get_cmap(\"coolwarm\")\n",
    "\n",
    "# Plot the contours and the trajectory\n",
    "plt.contour(X, Y, Z, cmap = cmap, levels = list(reversed(fvals)))\n",
    "plt.plot(traj[0,:], traj[1,:], 'o-k')\n",
    "#plt.axis('off')\n",
    "plt.xlim([0.1,0.5])\n",
    "plt.ylim([-0.5,-0.15])\n",
    "plt.axis('equal')\n",
    "plt.show()"
   ]
  },
  {
   "cell_type": "code",
   "execution_count": null,
   "metadata": {
    "collapsed": true
   },
   "outputs": [],
   "source": []
  }
 ],
 "metadata": {
  "anaconda-cloud": {},
  "kernelspec": {
   "display_name": "Python 2",
   "language": "python",
   "name": "python2"
  },
  "language_info": {
   "codemirror_mode": {
    "name": "ipython",
    "version": 2
   },
   "file_extension": ".py",
   "mimetype": "text/x-python",
   "name": "python",
   "nbconvert_exporter": "python",
   "pygments_lexer": "ipython2",
   "version": "2.7.12"
  }
 },
 "nbformat": 4,
 "nbformat_minor": 0
}
