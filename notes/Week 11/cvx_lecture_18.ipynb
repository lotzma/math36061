{
 "cells": [
  {
   "cell_type": "markdown",
   "metadata": {},
   "source": [
    "<img style=\"float: left; width: 260px;\" src=\"images/svm-linsep.png\">\n",
    "***\n",
    "# <font color=\"grey\">$\\quad$ Lecture 18 - Support Vector Machines</font>\n",
    "***\n",
    "$\\newcommand{\\vct}[1]{\\mathbf{#1}}$\n",
    "$\\newcommand{\\mtx}[1]{\\mathbf{#1}}$\n",
    "$\\newcommand{\\e}{\\varepsilon}$\n",
    "$\\newcommand{\\norm}[1]{\\|#1\\|}$\n",
    "$\\newcommand{\\minimize}{\\text{minimize}\\quad}$\n",
    "$\\newcommand{\\maximize}{\\text{maximize}\\quad}$\n",
    "$\\newcommand{\\subjto}{\\quad\\text{subject to}\\quad}$\n",
    "$\\newcommand{\\R}{\\mathbb{R}}$\n",
    "$\\newcommand{\\trans}{T}$\n",
    "$\\newcommand{\\ip}[2]{\\langle {#1}, {#2} \\rangle}$\n",
    "$\\newcommand{\\zerovct}{\\vct{0}}$\n",
    "$\\newcommand{\\diff}[1]{\\mathrm{d}{#1}}$\n",
    "$\\newcommand{\\conv}{\\operatorname{conv}}$\n",
    "$\\newcommand{\\inter}{{\\operatorname{int}}}$"
   ]
  },
  {
   "cell_type": "markdown",
   "metadata": {},
   "source": [
    "In this lecture we return to the task of classification. As seen earlier, examples include spam filters, letter recognition, or text classification. In this lecture we introduce a popular method for classification, **Support Vector Machines (SVMs)**, from the point of view of convex optimization."
   ]
  },
  {
   "cell_type": "markdown",
   "metadata": {},
   "source": [
    "---\n",
    "### <font color=\"grey\">18.1 Support Vector Machines for Linear Classification</font>\n",
    "---"
   ]
  },
  {
   "cell_type": "markdown",
   "metadata": {},
   "source": [
    "In the simplest case there is a set of labels $\\mathcal{Y}=\\{-1,1\\}$ and the set of training points $\\{\\vct{x}_1,\\dots,\\vct{x}_n\\}$ is *linearly separable*: this means that there exists an affine hyperplane $h(\\vct{x})=\\vct{w}^{\\trans}\\vct{x}+b$ such that $h(\\vct{x}_i)>0$ if $y_i=1$ and $h(\\vct{x}_j)<0$ if $y_j=-1$. We call the points for which $y_i=1$ *positive*, and the ones for which $y_j=-1$ *negative*.\n",
    "The problem of finding such a hyperplane can be posed as a linear programming feasibility problem as follows: we look for a vector of *weights* $\\vct{w}$ and a *bias term* $b$ (together a $(p+1)$-dimensional vector) such that \n",
    "\n",
    "\\begin{equation*}\n",
    "  \\vct{w}^{\\trans}\\vct{x}_i+b\\geq 1, \\text{ for } y_i=1, \\quad \\vct{w}^{\\trans}\\vct{x}_j+b\\leq -1, \\text{ for } y_j=-1.\n",
    "\\end{equation*}\n",
    "\n",
    "Note that we can replace the $+1$ and $-1$ with any other positve or negative quantity by rescaling the $\\vct{w}$ and $\\vct{b}$, so this is just convention. We can also describe the two inequalities concisely as\n",
    "\n",
    "(1) \\begin{equation*}\n",
    "  y_i(\\vct{w}^{\\trans}\\vct{x}_i+b)-1 \\geq 0.\n",
    "\\end{equation*}\n",
    "\n",
    "A hyperplane separating the two point sets will in general not be unique.\n",
    "As we want to use the linear classifier on new, yet unknown data, we want to find a separating hyperplane with best possible **margin**. Let $d_+$ and $d_-$ denote the distance of a separating hyperplane to the closest positive and closest negative point, respectively. The quantity $d=d_++d_-$ is then called the margin or the classifier, and we want to find a hyperplane with largest possible margin.\n",
    "\n",
    "<img style=\"float: center; width: 320px;\" src=\"images/svm-linsep.png\">\n",
    "\n",
    "We next show that the margin for a separating hyperplane that satisfies (1) is $d=2/\\norm{\\vct{w}}_2$.\n",
    "Given a hyperplane $H$ described in (1) and a point $\\vct{x}$ such that we have the equality $\\vct{w}^{\\trans}\\vct{x}+b=1$ (the point is as close as possible to the hyperplane, also called a **support vector**), the distance of that point to the hyperplane can be computed by first taking the difference of $\\vct{x}$ with a point $\\vct{p}$ on $H$ (an *anchor*), and then computing the dot product of $\\vct{x}-\\vct{p}$ with the unit vector $\\vct{w}/\\norm{\\vct{w}}$ orthogonal to $H$ (see Calculus and Vectors A, math10121).\n",
    "\n",
    "<img style=\"float: center; width: 320px;\" src=\"images/linproj.png\">"
   ]
  },
  {
   "cell_type": "markdown",
   "metadata": {},
   "source": [
    "As anchor point $\\vct{p}$ we can just choose a multiple $c\\vct{w}$ that is on the plane, i.e., that satisfies $\\ip{\\vct{w}}{c\\vct{w}}+b=0$. This implies that $c=-b/\\norm{\\vct{w}}^2$, and consequently $\\vct{p} = -(b/\\norm{\\vct{w}}^2) \\vct{w}$. The distance is then\n",
    "\n",
    "\\begin{align*}\n",
    "  d_+ &= \\ip{\\vct{x}+\\frac{b}{\\norm{\\vct{w}}^2}\\vct{w}}{\\frac{\\vct{w}}{\\norm{\\vct{w}}}} = \\frac{\\ip{\\vct{x}}{\\vct{w}}}{\\norm{\\vct{w}}}+\\frac{b}{\\norm{\\vct{w}}^2}\\ip{\\vct{w}}{\\frac{\\vct{w}}{\\norm{\\vct{w}}}}\\\\ \n",
    "  &= \\frac{1-b}{\\norm{\\vct{w}}}+\\frac{b}{\\norm{\\vct{w}}} = \n",
    "  \\frac{1}{\\norm{\\vct{w}}}.\n",
    "\\end{align*}\n",
    "\n",
    "Similarly, we get $d_-=1/\\norm{\\vct{w}}$. The margin of this particular separating hyperplane is thus $d=2/\\norm{\\vct{w}}$. If we want to find a hyperplane with *largest* margin, we thus have to solve the quadratic optimization problem\n",
    "\n",
    "\\begin{align*}\n",
    "\\minimize & \\frac{1}{2}\\norm{\\vct{w}}^2\\\\\n",
    "\\subjto & y_i(\\vct{w}^{\\trans}\\vct{x}_i+b)-1 \\geq 0, \\quad 1\\leq i\\leq n.\n",
    "\\end{align*}\n",
    "\n",
    "Note that $b$ is also an unknown variable in this problem! \n",
    "The factor $1/2$ in the objective function is just to make the gradient look nicer. The Lagrangian of this problem is\n",
    "\n",
    "\\begin{align*}\n",
    "\\mathcal{L}(\\vct{w},b,\\vct{\\lambda}) &= \\frac{1}{2}\\norm{\\vct{w}}^2 - \\sum_{i=1}^m \\lambda_i y_i \\vct{w}^{\\trans}\\vct{x}_i-\\lambda_iy_ib+\\lambda_i\\\\\n",
    "&= \\frac{1}{2}\\vct{w}^{\\trans}\\vct{w}-\\vct{\\lambda}^{\\trans}\\mtx{X}\\vct{w}-b\\vct{\\lambda}^{\\trans}\\vct{y}+\\sum_{i=1}^m \\lambda_i,\n",
    "\\end{align*}\n",
    " \n",
    "where we denote by $\\mtx{X}$ the matrix with the $y_i\\vct{x}_i^{\\trans}$ as rows. We can then write the conditions on the gradient with respect to $\\vct{w}$ and $b$ of the Lagrangian as\n",
    "\n",
    "(2)\\begin{align*}\n",
    " \\nabla_{\\vct{w}} \\mathcal{L}(\\vct{w},b,\\vct{\\lambda}) & = \\vct{w}-\\mtx{X}^{\\trans}\\vct{\\lambda} = \\zerovct \\\\\n",
    " \\frac{\\partial \\mathcal{L}}{\\partial b}(\\vct{w},b,\\vct{\\lambda}) &= \\vct{y}^{\\trans}\\vct{\\lambda} = 0.\n",
    "\\end{align*}\n",
    "\n",
    "Replacing $\\vct{w}$ by $\\mtx{X}^{\\trans}\\vct{\\lambda}$ and $\\vct{\\lambda}^{\\trans}\\vct{y}$ by $0$ in the Lagrangian function then gives the expression for the Lagrange dual $g(\\vct{\\lambda})$,\n",
    "\n",
    "\\begin{equation*}\n",
    "  g(\\vct{\\lambda}) = -\\frac{1}{2}\\vct{\\lambda}^{\\trans}\\mtx{X}\\mtx{X}^{\\trans}\\vct{\\lambda}+\\sum_{i=1}^m \\lambda_i.\n",
    "\\end{equation*}\n",
    "\n",
    "Finally, changing the sign and the maximum with a minimum, we can formulate the Lagrange dual optimization problem as\n",
    "\n",
    "(3)\\begin{equation*}\n",
    "\\minimize \\frac{1}{2}\\vct{\\lambda}^{\\trans}\\mtx{X}\\mtx{X}^{\\trans}\\vct{\\lambda}- \\vct{\\lambda}^{\\trans}\\vct{e} \\subjto \\vct{\\lambda}\\geq \\zerovct,\n",
    "\\end{equation*}\n",
    "\n",
    "where $\\vct{e}$ is the vector of all ones. \n",
    "\n",
    "Note that there is one dual variable $\\lambda_i$ per data point $\\vct{x}_i$. We can find the optimal value by solving the dual problem (3), but that does not give us automatically the weights $\\vct{w}$ and the bias $b$. We can find the weights by $\\vct{w}=\\mtx{X}^{\\trans}\\vct{\\lambda}$. As for $b$, this is best determined from the KKT conditions of the problem. These can be written by combining the constraints of the primal problem with the conditions on the gradient of the Lagrangian (2), the condition $\\vct{\\lambda}\\geq \\zerovct$, and complementary slackness as\n",
    "\n",
    "\\begin{align*}\n",
    "   \\mtx{X}\\vct{w}+b\\vct{y}-\\vct{e} &= \\zerovct\\\\\n",
    "   \\vct{\\lambda}&\\geq \\zerovct\\\\\n",
    "   \\lambda_i (1-y_i(\\vct{w}^{\\trans}\\vct{x}_i+b)) &= 0 \\text{ for } 1\\leq i\\leq n\\\\\n",
    "   \\vct{w}-\\mtx{X}^{\\trans}\\vct{\\lambda} &= \\zerovct\\\\\n",
    "   \\vct{y}^{\\trans}\\vct{\\lambda} &= 0.\n",
    "\\end{align*}\n",
    "\n",
    "To get $b$, we can choose one of the equations in which $\\lambda_i\\neq 0$, and then find $b$ by setting $b= y_i(1-y_i\\vct{w}^{\\trans}\\vct{x}_i)$. With the KKT conditions written down, we can go about solving the problem of finding a maximum margin linear classifier using methods such as the barrier method."
   ]
  },
  {
   "cell_type": "markdown",
   "metadata": {
    "collapsed": true
   },
   "source": [
    "---\n",
    "### <font color=\"grey\">18.2 Extensions</font>\n",
    "---"
   ]
  },
  {
   "cell_type": "markdown",
   "metadata": {},
   "source": [
    "So far we looked at the particularly simple case where (a) the data falls into two classes, (b) the points can actually be well separated, and (c) they can be separated by an affine hyperplane. In reality, these three assumptions may not hold. We briefly discuss extensions of the basic model to account for the three situations just mentioned.\n",
    "\n",
    "**Non-exact separation.** What happens when the data can not be separated by a hyperplane? In this case the constraints can not be satisfied: there is no feasible solution to the problem. We can still modify the problem to allow for *misclassification*: we want to find a hyperplane that separates the two point sets as good as possible, but we allow for some mistakes.\n",
    "\n",
    "One approach is to add an additional set of $n$ *slack variables* $s_1,\\dots,s_n$, and modify the constraints to\n",
    "\n",
    "\\begin{equation*}\n",
    "  \\vct{w}^{\\trans}\\vct{x}_i+b\\geq 1-s_i, \\text{ for } y_i=1, \\quad \\vct{w}^{\\trans}\\vct{x}_j+b\\leq -1+s_j, \\text{ for } y_j=-1, \\quad s_i\\geq 0.\n",
    "\\end{equation*}\n",
    "\n",
    "The $i$-th data point can land on the wrong side of the hyperplane if $s_i>1$, and consequently the sum $\\sum_{i=1}^n s_i$ is an upper bound on the number of errors possible. If we want to minimize the number of misclassified points, we may want to minimize this upper bound, so a sensible choice for objective function would be to add a multiple of this sum. The new problem thus becomes\n",
    "\n",
    "\\begin{align*}\n",
    "  \\minimize &\\frac{1}{2}\\norm{\\vct{w}}^2+\\mu\\sum_{j=1}^n s_j\\\\\n",
    "\\subjto & y_i(\\vct{w}^{\\trans}\\vct{x}_i+b)-1+s_i \\geq 0, \\quad 1\\leq i\\leq n\\\\\n",
    "& s_i\\geq 0, \\quad 1\\leq i\\leq n,\n",
    "\\end{align*} \n",
    "\n",
    "for some parameter $\\mu$. The Lagrangian of this problem and the KKT conditions can be derived in a similar way as in the separable case and are left as an exercise. \n",
    "\n",
    "**Non-linear separation and kernels.** The key to extending SVMs from linear to non-linear separation is the observation that the dual form of the optimization problem (3) depends only on the dot products $\\ip{\\vct{x}_i}{\\vct{x}_j}$ of the data points. In fact, the $(i,j)$-th entry of the matrix $\\mtx{X}\\mtx{X}^{\\trans}$ is precisely $\\ip{\\vct{x}_i}{\\vct{x}_j}$!\n",
    "\n",
    "If we map our data into a higher (possibly infinite) dimensional space $\\mathcal{H}$,\n",
    "\n",
    "\\begin{equation*}\n",
    "  \\phi\\colon \\R^p \\to \\mathcal{H},\n",
    "\\end{equation*}\n",
    "\n",
    "and consider the data points $\\phi(\\vct{x}_i)$, $1\\leq i\\leq n$, then applying the support vector machine to these higher dimensional vectors will only depend on the dot products \n",
    "\n",
    "\\begin{equation*}\n",
    "K(\\vct{x}_i,\\vct{x}_j) = \\ip{\\phi(\\vct{x}_i)}{\\phi(\\vct{x}_j)}.\n",
    "\\end{equation*}\n",
    "\n",
    "The function $K$ is called a **kernel function**. A typical example, often used in practice, is the Gaussian radial basis function (RBF),\n",
    "\n",
    "\\begin{equation*}\n",
    "  K(\\vct{x},\\vct{y}) = e^{-\\norm{\\vct{x}-\\vct{y}}^2/2\\sigma^2}.\n",
    "\\end{equation*}\n",
    "\n",
    "Note that we *don't need to know how the function $\\phi$ looks like*! In the equation for the hyperplane we simply replace $\\vct{w}^{\\trans}\\vct{x}$ with $K(\\vct{w},\\vct{x})$. The only difference now is that the function ceases to be linear in $\\vct{x}$: we get a non-linear decision boundary.\n",
    "\n",
    "**Multiple classes.** One is often interested in classifying data into more than two classes. There are two simple ways in which support vector machines can be extended for such problems: one-vs-one and one-vs-rest. In the one-vs-one case, given $k$ classes, we train one classifier for each pair of classes in the training data, obtaining a total of $k(k-1)/2$ classifiers. When it comes to prediction, we apply each of the classifiers to our test data and choose the class that was chosen the most among all the classifiers. In the one-vs-rest approach, each train $k$ binary classifiers: in each one, one class corresponds to a chosen class, and the second class corresponds to the rest. By associating confidence scores to each classifier, we choose the one with the highest confidence score."
   ]
  },
  {
   "cell_type": "markdown",
   "metadata": {},
   "source": [
    "**Example: digit recognition.** An example that uses all three extensions mentioned is handwritten digit recognition. Suppose we have a series of pixels, each representing a number, and associated labels $\\{0,1,2,3,4,5,6,7,8,9\\}$. We would like to train a support vector machine to recognize new digits. Given the knowledge we have, we can implement this task using standard optimization software such as CVXPY. Luckily, there are packages that have this functionality already implemented, such as the \\textsc{Scikit-learn} package for Python. We illustrate its functioning below. The code also illustrates some standard procedures when tackling a machine learning problem:\n",
    "\n",
    "* **Separate** the data set randomly into *training data* and *test data*;\n",
    "* **Create** a support vector classifier with optional parameters;\n",
    "* **Train** (using \\textsc{fit}) the classifier with the training data;\n",
    "* **Predict** the response using the test data and compare with the true response;\n",
    "* **Report** the results.\n",
    "\n",
    "An important aspect to keep in mind is that when testing the performance using the test data, we should compare the classification accuracy to a naive baseline: if, for example, $80\\%$ of the test data is classified as $+1$, then making a prediction of $+1$ for all the data will give us an accuracy of $80\\%$; in this case, we would want our classifier to perform considerably better than getting the right answer $80\\%$ of the time!"
   ]
  },
  {
   "cell_type": "code",
   "execution_count": 3,
   "metadata": {
    "collapsed": true
   },
   "outputs": [],
   "source": [
    "import numpy as np\n",
    "import matplotlib.pyplot as plt\n",
    "% matplotlib inline\n",
    "from sklearn import svm, datasets, metrics\n",
    "from sklearn.model_selection import train_test_split"
   ]
  },
  {
   "cell_type": "code",
   "execution_count": 4,
   "metadata": {
    "collapsed": false
   },
   "outputs": [
    {
     "data": {
      "text/plain": [
       "SVC(C=1.0, cache_size=200, class_weight=None, coef0=0.0,\n",
       "  decision_function_shape=None, degree=3, gamma=0.001, kernel='rbf',\n",
       "  max_iter=-1, probability=False, random_state=None, shrinking=True,\n",
       "  tol=0.001, verbose=False)"
      ]
     },
     "execution_count": 4,
     "metadata": {},
     "output_type": "execute_result"
    },
    {
     "data": {
      "image/png": "[encoded data removed]",
      "text/plain": [
       "<matplotlib.figure.Figure at 0x8f1a0b8>"
      ]
     },
     "metadata": {},
     "output_type": "display_data"
    }
   ],
   "source": [
    "# The digits dataset\n",
    "digits = datasets.load_digits()\n",
    "\n",
    "# Display images and labels\n",
    "images_and_labels = list(zip(digits.images, digits.target))\n",
    "for index, (image, label) in enumerate(images_and_labels[:4]):\n",
    "    plt.subplot(2, 4, index + 1)\n",
    "    plt.axis('off')\n",
    "    plt.imshow(image, cmap=plt.cm.gray_r, interpolation='nearest')\n",
    "    plt.title('Training: %i' % label)\n",
    "plt.savefig('images/train-digits.png')\n",
    "\n",
    "# Turn images into 1-D arrays\n",
    "n_samples = len(digits.images)\n",
    "data = digits.images.reshape((n_samples, -1))\n",
    "\n",
    "# Create classifier\n",
    "svc = svm.SVC(gamma=0.001)\n",
    "\n",
    "# Randomly split data into train and test set\n",
    "X_train, X_test, y_train, y_test = train_test_split(data, digits.target, test_size = 0.4, random_state=0)\n",
    "svc.fit(X_train, y_train)"
   ]
  },
  {
   "cell_type": "code",
   "execution_count": 5,
   "metadata": {
    "collapsed": false
   },
   "outputs": [
    {
     "name": "stdout",
     "output_type": "stream",
     "text": [
      "Classification report for classifier SVC(C=1.0, cache_size=200, class_weight=None, coef0=0.0,\n",
      "  decision_function_shape=None, degree=3, gamma=0.001, kernel='rbf',\n",
      "  max_iter=-1, probability=False, random_state=None, shrinking=True,\n",
      "  tol=0.001, verbose=False):\n",
      "             precision    recall  f1-score   support\n",
      "\n",
      "          0       1.00      1.00      1.00        60\n",
      "          1       0.97      1.00      0.99        73\n",
      "          2       1.00      0.97      0.99        71\n",
      "          3       1.00      1.00      1.00        70\n",
      "          4       1.00      1.00      1.00        63\n",
      "          5       1.00      0.98      0.99        89\n",
      "          6       0.99      1.00      0.99        76\n",
      "          7       0.98      1.00      0.99        65\n",
      "          8       1.00      0.99      0.99        78\n",
      "          9       0.99      1.00      0.99        74\n",
      "\n",
      "avg / total       0.99      0.99      0.99       719\n",
      "\n",
      "\n"
     ]
    }
   ],
   "source": [
    "# Compare prediction with known test set\n",
    "predicted = svc.predict(X_test)\n",
    "print(\"Classification report for classifier %s:\\n%s\\n\"\n",
    "      % (svc, metrics.classification_report(y_test, predicted)))"
   ]
  },
  {
   "cell_type": "code",
   "execution_count": 6,
   "metadata": {
    "collapsed": true
   },
   "outputs": [],
   "source": [
    "import skimage\n",
    "from skimage import data\n",
    "from skimage.transform import resize\n",
    "from skimage import io\n",
    "import os"
   ]
  },
  {
   "cell_type": "code",
   "execution_count": 7,
   "metadata": {
    "collapsed": false
   },
   "outputs": [
    {
     "data": {
      "image/png": "[encoded data removed]",
      "text/plain": [
       "<matplotlib.figure.Figure at 0xba245c0>"
      ]
     },
     "metadata": {},
     "output_type": "display_data"
    }
   ],
   "source": [
    "mydigit1 = io.imread('images/digit9.png')\n",
    "mydigit2 = io.imread('images/digit4.png')\n",
    "plt.figure(figsize=(8, 4))\n",
    "plt.subplot(1,2,1)\n",
    "plt.imshow(mydigit1, cmap=plt.cm.gray_r, interpolation='nearest')\n",
    "plt.axis('off')\n",
    "plt.subplot(1,2,2)\n",
    "plt.imshow(mydigit2, cmap=plt.cm.gray_r, interpolation='nearest')\n",
    "plt.axis('off')\n",
    "plt.show()"
   ]
  },
  {
   "cell_type": "code",
   "execution_count": 8,
   "metadata": {
    "collapsed": false
   },
   "outputs": [
    {
     "name": "stdout",
     "output_type": "stream",
     "text": [
      "[9 4]\n"
     ]
    }
   ],
   "source": [
    "# Need to do some pre-processing here, in particular reducing size\n",
    "smalldigit1 = resize(mydigit1, (8,8))\n",
    "smalldigit2 = resize(mydigit2, (8,8))\n",
    "mydigits = np.concatenate((np.round(15*(np.ones((8,8))-smalldigit1[:,:,0])).reshape((64,1)).T,\n",
    "                           np.round(15*(np.ones((8,8))-smalldigit2[:,:,0])).reshape((64,1)).T),axis=0)\n",
    "\n",
    "guess = svc.predict(mydigits)\n",
    "print guess"
   ]
  }
 ],
 "metadata": {
  "anaconda-cloud": {},
  "kernelspec": {
   "display_name": "Python [conda env:py27]",
   "language": "python",
   "name": "conda-env-py27-py"
  },
  "language_info": {
   "codemirror_mode": {
    "name": "ipython",
    "version": 2
   },
   "file_extension": ".py",
   "mimetype": "text/x-python",
   "name": "python",
   "nbconvert_exporter": "python",
   "pygments_lexer": "ipython2",
   "version": "2.7.12"
  }
 },
 "nbformat": 4,
 "nbformat_minor": 1
}
