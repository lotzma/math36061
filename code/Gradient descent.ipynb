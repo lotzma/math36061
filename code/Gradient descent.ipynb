{
 "cells": [
  {
   "cell_type": "code",
   "execution_count": 1,
   "metadata": {
    "collapsed": false
   },
   "outputs": [],
   "source": [
    "import numpy as np\n",
    "import numpy.linalg as la\n",
    "import matplotlib.pyplot as plt\n",
    "import matplotlib"
   ]
  },
  {
   "cell_type": "code",
   "execution_count": 2,
   "metadata": {
    "collapsed": true
   },
   "outputs": [],
   "source": [
    "def graddesc(A, b, x, tol):\n",
    "    \"\"\"\n",
    "    Compute gradient descent for function norm(Ax-b)\n",
    "    \"\"\"\n",
    "    # Compute the gradient\n",
    "    r = np.dot(A.transpose(),b-np.dot(A,x))\n",
    "    # Start with an empty array\n",
    "    xout = [x]\n",
    "    while la.norm(r,2) > tol:\n",
    "        # If the gradient is bigger than the tolerance\n",
    "        Ar = np.dot(A,r)\n",
    "        alpha = np.dot(r,r)/np.dot(Ar,Ar)\n",
    "        x = x + alpha*r\n",
    "        xout.append(x)\n",
    "        r = r-alpha*np.dot(A.transpose(),Ar)\n",
    "    return np.array(xout).transpose()"
   ]
  },
  {
   "cell_type": "code",
   "execution_count": 3,
   "metadata": {
    "collapsed": false
   },
   "outputs": [],
   "source": [
    "class GraddescBuilder:\n",
    "    def __init__(self, line, cont, A, b, x, tol):\n",
    "        self.line = line\n",
    "        self.cont = cont\n",
    "        self.xs = line.get_xdata()\n",
    "        self.ys = line.get_ydata()\n",
    "        self.cid = line.figure.canvas.mpl_connect('button_press_event', self)\n",
    "\n",
    "    def __call__(self, event):\n",
    "        #print('click', event)\n",
    "        if event.inaxes!=self.line.axes: return\n",
    "        self.xs = event.xdata\n",
    "        self.ys = event.ydata\n",
    "        \n",
    "        xout = graddesc(A, b, np.array([self.xs, self.ys]), tol)\n",
    "        \n",
    "        fvals = []\n",
    "        for i in range(7):\n",
    "            fvals.append(f(xout[:,i]))\n",
    "        \n",
    "        self.line.set_data(xout[0,:], xout[1,:])\n",
    "        self.cont.levels = np.array(list(reversed(fvals)))\n",
    "        plt.draw()\n",
    "        #self.line.figure.canvas.draw()\n"
   ]
  },
  {
   "cell_type": "code",
   "execution_count": 4,
   "metadata": {
    "collapsed": false
   },
   "outputs": [],
   "source": [
    "% matplotlib qt\n",
    "fig = plt.figure()\n",
    "ax = fig.add_subplot(111)\n",
    "\n",
    "A = np.array([[2,0], [1,3], [0,1]])\n",
    "b = np.array([1, -1, 0])\n",
    "tol = 1e-4\n",
    "x = np.zeros(2)\n",
    "\n",
    "# Define the function we aim to minimize\n",
    "def f(x):\n",
    "    return np.dot(np.dot(A,x)-b,np.dot(A,x)-b)\n",
    "\n",
    "# Create a mesh grid \n",
    "xx = np.linspace(-0.1,0.9,100)\n",
    "yy = np.linspace(-0.1,-0.8,100)\n",
    "X, Y = np.meshgrid(xx, yy)\n",
    "\n",
    "Z = np.zeros(X.shape)\n",
    "for i in range(Z.shape[0]):\n",
    "    for j in range(Z.shape[1]):\n",
    "        Z[i,j] = f(np.array([X[i,j], Y[i,j]]))\n",
    "\n",
    "# Get a nice monotone colormap\n",
    "cmap = plt.cm.get_cmap(\"coolwarm\")\n",
    "\n",
    "# Plot the contours and the trajectory\n",
    "cont = ax.contour(X, Y, Z, cmap = cmap)\n",
    "#plt.plot(traj[0,:], traj[1,:], 'o-k')\n",
    "plt.show()\n",
    "\n",
    "#def onclick(event):\n",
    "#    ax.plot([event.xdata], [event.ydata], 'o', size=3)\n",
    "    #print event.xdata, event.ydata\n",
    "\n",
    "#cid = fig.canvas.mpl_connect('button_press_event', onclick)\n",
    "\n",
    "#fig = plt.figure()\n",
    "#ax = fig.add_subplot(111)\n",
    "#ax.set_title('click to build line segments')\n",
    "line, = ax.plot([0], [0], color='black', linewidth=3)  # empty line\n",
    "linebuilder = GraddescBuilder(line, cont, A, b, x, tol)\n",
    "\n",
    "plt.show()"
   ]
  },
  {
   "cell_type": "code",
   "execution_count": null,
   "metadata": {
    "collapsed": false
   },
   "outputs": [],
   "source": []
  },
  {
   "cell_type": "code",
   "execution_count": null,
   "metadata": {
    "collapsed": true
   },
   "outputs": [],
   "source": []
  }
 ],
 "metadata": {
  "anaconda-cloud": {},
  "kernelspec": {
   "display_name": "Python [py27]",
   "language": "python",
   "name": "Python [py27]"
  },
  "language_info": {
   "codemirror_mode": {
    "name": "ipython",
    "version": 2
   },
   "file_extension": ".py",
   "mimetype": "text/x-python",
   "name": "python",
   "nbconvert_exporter": "python",
   "pygments_lexer": "ipython2",
   "version": "2.7.12"
  }
 },
 "nbformat": 4,
 "nbformat_minor": 0
}
