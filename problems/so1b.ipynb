{
 "cells": [
  {
   "cell_type": "code",
   "execution_count": 60,
   "metadata": {
    "collapsed": true
   },
   "outputs": [],
   "source": [
    "import numpy as np\n",
    "import numpy.linalg as la\n",
    "import matplotlib.pyplot as plt"
   ]
  },
  {
   "cell_type": "code",
   "execution_count": 66,
   "metadata": {
    "collapsed": true
   },
   "outputs": [],
   "source": [
    "def graddesc(A, b, x, tol):\n",
    "    # Compute the negative gradient r = A^T(b-Ax)\n",
    "    r = np.dot(A.transpose(),b-np.dot(A,x))\n",
    "    # Start with an empty array\n",
    "    xout = []\n",
    "    while la.norm(r,2) > tol:\n",
    "        # If the gradient is bigger than the tolerance\n",
    "        Ar = np.dot(A,r)\n",
    "        alpha = np.dot(r,r)/np.dot(Ar,Ar)\n",
    "        x = x + alpha*r\n",
    "        xout.append(x)\n",
    "        r = r-alpha*np.dot(A.transpose(),Ar)\n",
    "    return np.array(xout).transpose()"
   ]
  },
  {
   "cell_type": "code",
   "execution_count": 67,
   "metadata": {
    "collapsed": false
   },
   "outputs": [],
   "source": [
    "A = np.array([[1,2], [2,1], [-1,0]])\n",
    "b = np.array([10, -1, 0])\n",
    "tol = 1e-4\n",
    "x = np.zeros(2)\n",
    "\n",
    "traj = graddesc(A, b, x, tol)"
   ]
  },
  {
   "cell_type": "code",
   "execution_count": 96,
   "metadata": {
    "collapsed": false
   },
   "outputs": [
    {
     "data": {
      "image/png": "[encoded data removed]",
      "text/plain": [
       "<matplotlib.figure.Figure at 0x8317e48>"
      ]
     },
     "metadata": {},
     "output_type": "display_data"
    }
   ],
   "source": [
    "% matplotlib inline\n",
    "\n",
    "# First create a contour plot to see where the minimum would be\n",
    "\n",
    "# Define the function we aim to minimize\n",
    "def f(x):\n",
    "    return np.dot(np.dot(A,x)-b,np.dot(A,x)-b)\n",
    "\n",
    "# Create a mesh grid \n",
    "xx = np.linspace(-3,1,100)\n",
    "yy = np.linspace(2,6,100)\n",
    "X, Y = np.meshgrid(xx, yy)\n",
    "Z = np.zeros(X.shape)\n",
    "for i in range(Z.shape[0]):\n",
    "    for j in range(Z.shape[1]):\n",
    "        Z[i,j] = f(np.array([X[i,j], Y[i,j]]))\n",
    "\n",
    "# Get a nice monotone colormap\n",
    "cmap = plt.cm.get_cmap(\"coolwarm\")\n",
    "\n",
    "# Plot the contours and the trajectory\n",
    "plt.contourf(X, Y, Z, cmap = cmap)\n",
    "plt.plot(traj[0,:], traj[1,:], 'o-k')\n",
    "plt.show()"
   ]
  },
  {
   "cell_type": "code",
   "execution_count": 80,
   "metadata": {
    "collapsed": false
   },
   "outputs": [
    {
     "data": {
      "text/plain": [
       "10.28571429650831"
      ]
     },
     "execution_count": 80,
     "metadata": {},
     "output_type": "execute_result"
    }
   ],
   "source": [
    "# Compare the solution with the one found by the least squares command\n",
    "f(traj[:,-2])"
   ]
  },
  {
   "cell_type": "code",
   "execution_count": null,
   "metadata": {
    "collapsed": true
   },
   "outputs": [],
   "source": []
  }
 ],
 "metadata": {
  "kernelspec": {
   "display_name": "Python [py27]",
   "language": "python",
   "name": "Python [py27]"
  },
  "language_info": {
   "codemirror_mode": {
    "name": "ipython",
    "version": 2
   },
   "file_extension": ".py",
   "mimetype": "text/x-python",
   "name": "python",
   "nbconvert_exporter": "python",
   "pygments_lexer": "ipython2",
   "version": "2.7.12"
  }
 },
 "nbformat": 4,
 "nbformat_minor": 0
}
